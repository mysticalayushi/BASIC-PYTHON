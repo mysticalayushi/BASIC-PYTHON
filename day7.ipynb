{
 "cells": [
  {
   "cell_type": "code",
   "execution_count": 18,
   "id": "c6178a3f-a11c-4831-a457-b6de8a19a09b",
   "metadata": {},
   "outputs": [
    {
     "name": "stdin",
     "output_type": "stream",
     "text": [
      "enter a number: 28\n"
     ]
    },
    {
     "name": "stdout",
     "output_type": "stream",
     "text": [
      "28 is a perfect number\n"
     ]
    }
   ],
   "source": [
    "#perfect number\n",
    "num=int(input(\"enter a number:\"))\n",
    "sum=0\n",
    "for i in range(1,int(num*0.5)+1):\n",
    "    if num%i==0:\n",
    "        sum=sum+i\n",
    "if sum==num:\n",
    "    print(f\"{num} is a perfect number\")\n",
    "else:\n",
    "    print(f\"{num} is not a perfect number\")\n",
    "        \n",
    "        \n",
    "        "
   ]
  },
  {
   "cell_type": "code",
   "execution_count": 2,
   "id": "3ddfc01a-408a-4ffd-94a2-a8b845805622",
   "metadata": {},
   "outputs": [
    {
     "name": "stdin",
     "output_type": "stream",
     "text": [
      "enter a number: 153\n"
     ]
    },
    {
     "name": "stdout",
     "output_type": "stream",
     "text": [
      "153 is an armstrong number\n"
     ]
    }
   ],
   "source": [
    "#armstrong number\n",
    "num=int(input(\"enter a number:\"))\n",
    "sum=0\n",
    "num1=num\n",
    "order=len(str(num))\n",
    "while num!=0:\n",
    "    digit=num%10\n",
    "    sum=sum+(digit**order)\n",
    "    num=num//10\n",
    "if num1==sum:\n",
    "    print(f\"{num1} is an armstrong number\")\n",
    "else:\n",
    "    print(f\"{num1} is not an armstrong number\")"
   ]
  },
  {
   "cell_type": "code",
   "execution_count": 16,
   "id": "0025abb5-a388-499e-83eb-7cd4a7ce5962",
   "metadata": {},
   "outputs": [
    {
     "name": "stdin",
     "output_type": "stream",
     "text": [
      "enter the no of rows: 5\n"
     ]
    },
    {
     "name": "stdout",
     "output_type": "stream",
     "text": [
      "\n",
      "1 \n",
      "2 2 \n",
      "3 3 3 \n",
      "4 4 4 4 \n",
      "5 5 5 5 5 \n"
     ]
    }
   ],
   "source": [
    "rows=int(input(\"enter the no of rows:\"))\n",
    "for i in range(rows+1):\n",
    "    for j in range(i):\n",
    "        print(i,end=\" \")\n",
    "    print()"
   ]
  },
  {
   "cell_type": "code",
   "execution_count": 13,
   "id": "2681da39-eab7-401a-9ca5-85ec0fbee47a",
   "metadata": {},
   "outputs": [
    {
     "name": "stdin",
     "output_type": "stream",
     "text": [
      "enter the number of rows: 5\n"
     ]
    },
    {
     "name": "stdout",
     "output_type": "stream",
     "text": [
      "A \n",
      "B B \n",
      "C C C \n",
      "D D D D \n",
      "E E E E E \n"
     ]
    }
   ],
   "source": [
    "i=int(input(\"enter the number of rows:\"))\n",
    "for i in range(i):\n",
    "  for j in range(i+1):\n",
    "    print(chr(65+i),end=\" \")\n",
    "  print()"
   ]
  },
  {
   "cell_type": "code",
   "execution_count": 3,
   "id": "80892089-601a-4b58-ab29-f832e4b97a7b",
   "metadata": {},
   "outputs": [
    {
     "name": "stdin",
     "output_type": "stream",
     "text": [
      "enter the no of elements in list: 3\n",
      "enter the elements: 1\n",
      "enter the elements: 2\n",
      "enter the elements: 3\n"
     ]
    },
    {
     "name": "stdout",
     "output_type": "stream",
     "text": [
      "sum of the elements of [1, 2, 3] are: 6\n"
     ]
    }
   ],
   "source": [
    "mylist=[]\n",
    "num=int(input(\"enter the no of elements in list:\"))\n",
    "for i in range(1,num+1):\n",
    "    elements=int(input(\"enter the elements:\"))\n",
    "    mylist.append(elements)\n",
    "    totalsum=sum(mylist)\n",
    "print(f\"sum of the elements of {mylist} are:\",totalsum)"
   ]
  },
  {
   "cell_type": "code",
   "execution_count": 5,
   "id": "564e6260-fd03-4098-8dd9-afba0034ee28",
   "metadata": {},
   "outputs": [
    {
     "name": "stdout",
     "output_type": "stream",
     "text": [
      "7.0 8.0 10.0 -0.3048106211022167 -0.4480736161291701 -1.995200412208242 3.141592653589793 2.0 2.718281828459045 2.718281828459045\n"
     ]
    }
   ],
   "source": [
    "import math\n",
    "a=math.sqrt(49)\n",
    "b=math.pow(2,3)\n",
    "c=math.fabs(-10)\n",
    "d=math.sin(60)\n",
    "e=math.cos(90)\n",
    "f=math.tan(90)\n",
    "g=math.pi\n",
    "h=math.log10(100)\n",
    "i=math.exp(1)\n",
    "j=math.e\n",
    "print(a,b,c,d,e,f,g,h,i,j)\n",
    "\n"
   ]
  },
  {
   "cell_type": "code",
   "execution_count": 6,
   "id": "ac752059-61ec-44f7-b574-fc17c5b9a988",
   "metadata": {},
   "outputs": [
    {
     "name": "stdout",
     "output_type": "stream",
     "text": [
      "inf\n"
     ]
    }
   ],
   "source": [
    "import math\n",
    "print(math.inf)"
   ]
  },
  {
   "cell_type": "code",
   "execution_count": 7,
   "id": "77b29b7e-e203-4354-885b-52d57fea7b75",
   "metadata": {},
   "outputs": [
    {
     "name": "stdout",
     "output_type": "stream",
     "text": [
      "-inf\n"
     ]
    }
   ],
   "source": [
    "import math\n",
    "print(-math.inf)"
   ]
  },
  {
   "cell_type": "code",
   "execution_count": 9,
   "id": "c0aa3295-86b6-452e-9a17-dcbf13687511",
   "metadata": {},
   "outputs": [
    {
     "name": "stdout",
     "output_type": "stream",
     "text": [
      "<built-in function dir>\n"
     ]
    }
   ],
   "source": [
    "print(dir)"
   ]
  },
  {
   "cell_type": "code",
   "execution_count": 10,
   "id": "bd4d914e-ce26-45e2-b56d-7c3ed10b37fc",
   "metadata": {},
   "outputs": [
    {
     "name": "stdin",
     "output_type": "stream",
     "text": [
      "enter a string: 1234absd\n"
     ]
    },
    {
     "name": "stdout",
     "output_type": "stream",
     "text": [
      "dsba4321\n"
     ]
    }
   ],
   "source": [
    "str=input(\"enter a string:\")\n",
    "print(str[::-1])"
   ]
  },
  {
   "cell_type": "code",
   "execution_count": 13,
   "id": "ef5bb365-1c0b-4713-be9d-5e5f3474bc2c",
   "metadata": {},
   "outputs": [
    {
     "name": "stdin",
     "output_type": "stream",
     "text": [
      "enter a string: ayushi\n"
     ]
    },
    {
     "name": "stdout",
     "output_type": "stream",
     "text": [
      "$yushi\n"
     ]
    }
   ],
   "source": [
    "str=input(\"enter a string:\")\n",
    "str1=str.replace(\"a\",\"$\")\n",
    "print(str1)"
   ]
  },
  {
   "cell_type": "code",
   "execution_count": 14,
   "id": "085bcc8c-18f5-4de8-b543-fcb459ed32ef",
   "metadata": {},
   "outputs": [
    {
     "name": "stdin",
     "output_type": "stream",
     "text": [
      "enter a string: I wanna go home\n"
     ]
    },
    {
     "name": "stdout",
     "output_type": "stream",
     "text": [
      "I-wanna-go-home\n"
     ]
    }
   ],
   "source": [
    "str=input(\"enter a string:\")\n",
    "str1=str.replace(\" \",\"-\")\n",
    "print(str1)"
   ]
  },
  {
   "cell_type": "code",
   "execution_count": 30,
   "id": "f1f9f2b8-f456-4030-9215-51cd9e6fb94f",
   "metadata": {},
   "outputs": [
    {
     "name": "stdin",
     "output_type": "stream",
     "text": [
      "enter the no of elements you want to enter: 4\n",
      "enter the elements: 12\n",
      "enter the elements: 13\n",
      "enter the elements: 14\n",
      "enter the elements: 15\n"
     ]
    },
    {
     "name": "stdout",
     "output_type": "stream",
     "text": [
      "15\n",
      "12\n",
      "13.5\n"
     ]
    }
   ],
   "source": [
    "mylist=[]\n",
    "num=int(input(\"enter the no of elements you want to enter:\"))\n",
    "for i in range(num):\n",
    "    element=int(input(\"enter the elements:\"))\n",
    "    mylist.append(element)\n",
    "print(max(mylist))\n",
    "print(min(mylist))\n",
    "print((sum(mylist))/num)"
   ]
  },
  {
   "cell_type": "code",
   "execution_count": 32,
   "id": "3c6149ce-f339-4534-8667-1a6196f339d3",
   "metadata": {},
   "outputs": [
    {
     "name": "stdout",
     "output_type": "stream",
     "text": [
      "*****\n",
      "*****\n",
      "*****\n",
      "*****\n",
      "*****\n"
     ]
    }
   ],
   "source": [
    "for i in range(1,6):\n",
    "    print(\"*\"*5)"
   ]
  },
  {
   "cell_type": "code",
   "execution_count": null,
   "id": "4e6b9f8a-3e11-4b69-845d-1c10e7434a8a",
   "metadata": {},
   "outputs": [],
   "source": []
  }
 ],
 "metadata": {
  "kernelspec": {
   "display_name": "Python 3 (ipykernel)",
   "language": "python",
   "name": "python3"
  },
  "language_info": {
   "codemirror_mode": {
    "name": "ipython",
    "version": 3
   },
   "file_extension": ".py",
   "mimetype": "text/x-python",
   "name": "python",
   "nbconvert_exporter": "python",
   "pygments_lexer": "ipython3",
   "version": "3.13.1"
  }
 },
 "nbformat": 4,
 "nbformat_minor": 5
}
