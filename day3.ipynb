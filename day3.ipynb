{
 "cells": [
  {
   "cell_type": "code",
   "execution_count": 1,
   "id": "ca7b8040-7a99-4352-b098-f513cdfff675",
   "metadata": {},
   "outputs": [
    {
     "name": "stdout",
     "output_type": "stream",
     "text": [
      "4\n",
      "0\n"
     ]
    }
   ],
   "source": [
    "a=3\n",
    "b=4\n",
    "print(a and b)\n",
    "print(a & b)"
   ]
  },
  {
   "cell_type": "code",
   "execution_count": 2,
   "id": "64abf5fe-3066-48a1-941b-d1228de4a0d5",
   "metadata": {},
   "outputs": [
    {
     "name": "stdout",
     "output_type": "stream",
     "text": [
      "3\n",
      "2\n"
     ]
    }
   ],
   "source": [
    "a=2\n",
    "b=3\n",
    "print(a and b)\n",
    "print(a & b)"
   ]
  },
  {
   "cell_type": "code",
   "execution_count": 3,
   "id": "b47c2a22-d84e-40b9-ad99-99f52b8568a4",
   "metadata": {},
   "outputs": [
    {
     "name": "stdout",
     "output_type": "stream",
     "text": [
      "hello\n",
      "hello\n",
      "hello\n"
     ]
    }
   ],
   "source": [
    "print('hello')\n",
    "print(\"hello\")\n",
    "print(\"\"\"hello\"\"\")"
   ]
  },
  {
   "cell_type": "code",
   "execution_count": 1,
   "id": "80a88605-ca53-454f-a2a3-03f61b69fcea",
   "metadata": {},
   "outputs": [
    {
     "name": "stdout",
     "output_type": "stream",
     "text": [
      "I want a long vacation\n",
      "I want a lo\n",
      " \n",
      " \n",
      "noitacav gnol a tnaw I\n",
      "Iwn\n",
      "a\n",
      " a\n"
     ]
    }
   ],
   "source": [
    "\n",
    "str=\"I want a long vacation\"\n",
    "print(str[0:])\n",
    "print(str[0:11])\n",
    "print(str[13])\n",
    "print(str[1::-2])\n",
    "print(str[::-1])\n",
    "print(str[:5:2])\n",
    "print(str[3:4])\n",
    "print(str[6:1:-3])"
   ]
  },
  {
   "cell_type": "code",
   "execution_count": 3,
   "id": "6567c296-8c0c-44b5-8c63-d33cb861ecb9",
   "metadata": {},
   "outputs": [
    {
     "name": "stdin",
     "output_type": "stream",
     "text": [
      "enter a string: mom\n"
     ]
    },
    {
     "name": "stdout",
     "output_type": "stream",
     "text": [
      "palindrome\n"
     ]
    }
   ],
   "source": [
    "str=input(\"enter a string:\")\n",
    "x=str[::-1]\n",
    "if str==x:\n",
    "    print(\"palindrome\")\n",
    "else:\n",
    "    print(\"not a palindrome\")\n"
   ]
  },
  {
   "cell_type": "code",
   "execution_count": 4,
   "id": "ca4f52f5-221b-4f09-99f4-9bc7483d6bfd",
   "metadata": {},
   "outputs": [
    {
     "name": "stdout",
     "output_type": "stream",
     "text": [
      "*am*the\n"
     ]
    }
   ],
   "source": [
    "str=\"I*am*the*best\"\n",
    "print(str[1:8])"
   ]
  },
  {
   "cell_type": "code",
   "execution_count": 5,
   "id": "f28adc93-7022-4d62-a67a-666d962d087c",
   "metadata": {},
   "outputs": [
    {
     "name": "stdout",
     "output_type": "stream",
     "text": [
      "egelloc\n"
     ]
    }
   ],
   "source": [
    "str=\"college\"\n",
    "print(str[::-1])"
   ]
  },
  {
   "cell_type": "code",
   "execution_count": 13,
   "id": "31170250-f058-4fb5-bb63-8ad35a73764d",
   "metadata": {},
   "outputs": [
    {
     "name": "stdout",
     "output_type": "stream",
     "text": [
      "Python\n",
      "Python\n",
      "Python Programming\n",
      "\n",
      "Programming\n",
      "Pto rg\n",
      "gnimmargorP nohtyP\n"
     ]
    }
   ],
   "source": [
    "str=\"Python Programming\"\n",
    "print(str[0:6])\n",
    "print(str[:6])\n",
    "print(str[:])\n",
    "print(str[0:0])\n",
    "print(str[7:])\n",
    "print(str[0:12:2])\n",
    "print(str[::-1])"
   ]
  },
  {
   "cell_type": "code",
   "execution_count": 16,
   "id": "201d1f07-a86e-4266-b916-c827609a0288",
   "metadata": {},
   "outputs": [
    {
     "name": "stdout",
     "output_type": "stream",
     "text": [
      "Pyt\n",
      "\n",
      "hty\n"
     ]
    }
   ],
   "source": [
    "text=\"Python\"\n",
    "print(text[-6:-3])\n",
    "print(text[-3:-6])\n",
    "print(text[-3:-6:-1])"
   ]
  },
  {
   "cell_type": "code",
   "execution_count": 20,
   "id": "11ddb1d5-f587-4cf2-98de-317ea2615783",
   "metadata": {},
   "outputs": [
    {
     "name": "stdout",
     "output_type": "stream",
     "text": [
      "My name is 18 and I am ayushi years old.\n"
     ]
    }
   ],
   "source": [
    "name=\"ayushi\"\n",
    "age=18\n",
    "print(\"My name is {} and I am {} years old.\".format(name,age))"
   ]
  },
  {
   "cell_type": "code",
   "execution_count": 21,
   "id": "4fc6fae4-3965-4269-b1c8-9a11c8711a2f",
   "metadata": {},
   "outputs": [
    {
     "name": "stdout",
     "output_type": "stream",
     "text": [
      "My name is ayushi and I am 18 years old and my hobby is binge watching\n"
     ]
    }
   ],
   "source": [
    "name=\"ayushi\"\n",
    "age=18\n",
    "hobby=\"binge watching\"\n",
    "print(\"My name is {} and I am {} years old and my hobby is {}\".format(name,age,hobby))"
   ]
  },
  {
   "cell_type": "code",
   "execution_count": 24,
   "id": "b3648c92-2df5-4967-80a2-5e6578cd1f32",
   "metadata": {},
   "outputs": [
    {
     "name": "stdout",
     "output_type": "stream",
     "text": [
      "False\n",
      "True\n"
     ]
    }
   ],
   "source": [
    "str=\"Python Programming\"\n",
    "print(\"\" not in str)\n",
    "print(\"\" in str)"
   ]
  },
  {
   "cell_type": "code",
   "execution_count": 26,
   "id": "c43127a9-1fe6-43a2-b465-22b5ab5a41a0",
   "metadata": {},
   "outputs": [
    {
     "name": "stdout",
     "output_type": "stream",
     "text": [
      "ayushi\n"
     ]
    }
   ],
   "source": [
    "str=\"AYUSHI\"\n",
    "print(str.lower())"
   ]
  },
  {
   "cell_type": "code",
   "execution_count": 27,
   "id": "6b62708f-3be7-4d78-8d52-e26aa684738d",
   "metadata": {},
   "outputs": [
    {
     "name": "stdout",
     "output_type": "stream",
     "text": [
      "ayushi\n"
     ]
    }
   ],
   "source": [
    "str=\"Ayushi\"\n",
    "print(str.lower())"
   ]
  },
  {
   "cell_type": "code",
   "execution_count": 28,
   "id": "2bbeb6f3-8867-436a-a6f2-e954d0c31360",
   "metadata": {},
   "outputs": [
    {
     "name": "stdout",
     "output_type": "stream",
     "text": [
      "AYUSHI\n"
     ]
    }
   ],
   "source": [
    "str=\"ayushi\"\n",
    "print(str.upper())"
   ]
  },
  {
   "cell_type": "code",
   "execution_count": 30,
   "id": "0c9f6466-67b0-439b-8e64-df832ac49e6b",
   "metadata": {},
   "outputs": [
    {
     "name": "stdout",
     "output_type": "stream",
     "text": [
      "AYUSHI\n"
     ]
    }
   ],
   "source": [
    "str=\"AYUSHI\"\n",
    "print(str.strip())"
   ]
  },
  {
   "cell_type": "code",
   "execution_count": 31,
   "id": "dd6fde5d-929c-4f9a-b043-b4e1a37cf38e",
   "metadata": {},
   "outputs": [
    {
     "name": "stdout",
     "output_type": "stream",
     "text": [
      "AyUsHi\n"
     ]
    }
   ],
   "source": [
    "str=\"AyUsHi\"\n",
    "print(str.strip())"
   ]
  },
  {
   "cell_type": "code",
   "execution_count": 33,
   "id": "a8598ee7-a3ae-419e-b7e4-6746339d3d26",
   "metadata": {},
   "outputs": [
    {
     "name": "stdout",
     "output_type": "stream",
     "text": [
      "Collegenahiaanekamann\n"
     ]
    }
   ],
   "source": [
    "str=\"Collegenahiaanekamann\"\n",
    "print(str.strip())"
   ]
  },
  {
   "cell_type": "code",
   "execution_count": 37,
   "id": "5303586c-ccd7-4544-a02c-c38c674ea35e",
   "metadata": {},
   "outputs": [
    {
     "name": "stdout",
     "output_type": "stream",
     "text": [
      "ayushi\n"
     ]
    }
   ],
   "source": [
    "str=\"Ayushi\"\n",
    "print(str.replace(\"A\",\"a\"))"
   ]
  },
  {
   "cell_type": "code",
   "execution_count": 38,
   "id": "6c20416f-f21b-44dc-b75f-f6ea68969a65",
   "metadata": {},
   "outputs": [
    {
     "name": "stdout",
     "output_type": "stream",
     "text": [
      "My name is not bachhan\n"
     ]
    }
   ],
   "source": [
    "str=\"My name is not khan\"\n",
    "print(str.replace(\"khan\",\"bachhan\"))"
   ]
  },
  {
   "cell_type": "code",
   "execution_count": 39,
   "id": "f1d7bbe7-45cf-4cc6-a121-68e80dffe46d",
   "metadata": {},
   "outputs": [
    {
     "name": "stdout",
     "output_type": "stream",
     "text": [
      "['ayushi']\n"
     ]
    }
   ],
   "source": [
    "str=\"ayushi\"\n",
    "print(str.split())"
   ]
  },
  {
   "cell_type": "code",
   "execution_count": 40,
   "id": "20a347f8-91d8-4090-a0e3-e81f3cffd41a",
   "metadata": {},
   "outputs": [
    {
     "name": "stdout",
     "output_type": "stream",
     "text": [
      "['my', 'name', 'is', 'ayushi']\n"
     ]
    }
   ],
   "source": [
    "str=\"my name is ayushi\"\n",
    "print(str.split())"
   ]
  },
  {
   "cell_type": "code",
   "execution_count": 42,
   "id": "f983cf6d-de76-482d-98f9-cca39bda3389",
   "metadata": {},
   "outputs": [
    {
     "name": "stdout",
     "output_type": "stream",
     "text": [
      "True\n"
     ]
    }
   ],
   "source": [
    "str=\"ayushi\"\n",
    "print(str.startswith(\"a\"))"
   ]
  },
  {
   "cell_type": "code",
   "execution_count": 43,
   "id": "5f10739d-a544-4fdb-b877-7f0e3bc15a39",
   "metadata": {},
   "outputs": [
    {
     "name": "stdout",
     "output_type": "stream",
     "text": [
      "False\n"
     ]
    }
   ],
   "source": [
    "str=\"ayushi\"\n",
    "print(str.startswith(\"z\"))"
   ]
  },
  {
   "cell_type": "code",
   "execution_count": 44,
   "id": "3ec1ca02-0305-49b9-bfe8-202413c65dfe",
   "metadata": {},
   "outputs": [
    {
     "name": "stdout",
     "output_type": "stream",
     "text": [
      "True\n"
     ]
    }
   ],
   "source": [
    "str=\"ayushi\"\n",
    "print(str.endswith(\"i\"))"
   ]
  },
  {
   "cell_type": "code",
   "execution_count": 45,
   "id": "c705d735-ac50-4b65-a5e9-8fb5f922a872",
   "metadata": {},
   "outputs": [
    {
     "name": "stdout",
     "output_type": "stream",
     "text": [
      "0\n"
     ]
    }
   ],
   "source": [
    "str=\"world\"\n",
    "print(str.find(\"w\"))"
   ]
  },
  {
   "cell_type": "code",
   "execution_count": 46,
   "id": "2ce59e72-1bbc-4859-a2c5-30cdbabf7e95",
   "metadata": {},
   "outputs": [
    {
     "name": "stdout",
     "output_type": "stream",
     "text": [
      "2\n"
     ]
    }
   ],
   "source": [
    "str=\"hello\"\n",
    "print(str.find(\"l\"))"
   ]
  },
  {
   "cell_type": "code",
   "execution_count": 49,
   "id": "f7650979-299c-47e6-b58d-b76def3f4562",
   "metadata": {},
   "outputs": [
    {
     "name": "stdout",
     "output_type": "stream",
     "text": [
      "Ihelloamhello18helloyearshelloold\n"
     ]
    }
   ],
   "source": [
    "list=[\"I\",\"am\",\"18\",\"years\",\"old\"]\n",
    "print(str.join(list))"
   ]
  },
  {
   "cell_type": "code",
   "execution_count": 50,
   "id": "8072d0b9-7733-4005-ba3f-81fd291a3947",
   "metadata": {},
   "outputs": [
    {
     "name": "stdout",
     "output_type": "stream",
     "text": [
      "applehellokiwi\n"
     ]
    }
   ],
   "source": [
    "l=[\"apple\",\"kiwi\"]\n",
    "print(str.join(l))"
   ]
  },
  {
   "cell_type": "code",
   "execution_count": 3,
   "id": "200e6c8d-85b0-4ba2-ad43-6e5d653591cf",
   "metadata": {},
   "outputs": [
    {
     "name": "stdin",
     "output_type": "stream",
     "text": [
      "enter a string in lowercase: ayushi\n",
      "enter a string in uppercase: AYUSHI\n"
     ]
    },
    {
     "name": "stdout",
     "output_type": "stream",
     "text": [
      "AYUSHI\n",
      "ayushi\n"
     ]
    }
   ],
   "source": [
    "str1=input(\"enter a string in lowercase:\")\n",
    "str2=input(\"enter a string in uppercase:\")\n",
    "print(str1.upper())\n",
    "print(str2.lower())"
   ]
  },
  {
   "cell_type": "code",
   "execution_count": 4,
   "id": "51f6ca76-2355-490d-a89a-da6fb2d18c77",
   "metadata": {},
   "outputs": [
    {
     "name": "stdout",
     "output_type": "stream",
     "text": [
      "1\n"
     ]
    }
   ],
   "source": [
    "str=\"ayushi\"\n",
    "print(str.count(\"a\"))"
   ]
  },
  {
   "cell_type": "code",
   "execution_count": 5,
   "id": "ba3a6fe0-e731-4ddb-9def-74d9fd71c925",
   "metadata": {},
   "outputs": [
    {
     "name": "stdout",
     "output_type": "stream",
     "text": [
      "2\n"
     ]
    }
   ],
   "source": [
    "str=\"hello\"\n",
    "print(str.count(\"l\"))"
   ]
  },
  {
   "cell_type": "code",
   "execution_count": 7,
   "id": "d704f0b4-a2e6-475e-9570-24b193eac8de",
   "metadata": {},
   "outputs": [
    {
     "name": "stdin",
     "output_type": "stream",
     "text": [
      "enter a string: Ayushi\n"
     ]
    },
    {
     "name": "stdout",
     "output_type": "stream",
     "text": [
      "count of a: 0\n",
      "count of e: 0\n",
      "count of i: 1\n",
      "count of o: 0\n",
      "count of u: 1\n",
      "count of A 1\n",
      "count of E: 0\n",
      "count of I 0\n",
      "count of O 0\n",
      "count of U 0\n"
     ]
    }
   ],
   "source": [
    "str=input(\"enter a string:\")\n",
    "a=str.count(\"a\")\n",
    "e=str.count(\"e\")\n",
    "i=str.count(\"i\")\n",
    "o=str.count(\"o\")\n",
    "u=str.count(\"u\")\n",
    "A=str.count(\"A\")\n",
    "E=str.count(\"E\")\n",
    "I=str.count(\"I\")\n",
    "O=str.count(\"O\")\n",
    "U=str.count(\"U\")\n",
    "print(\"count of a:\",a)\n",
    "print(\"count of e:\",e)\n",
    "print(\"count of i:\",i)\n",
    "print(\"count of o:\",o)\n",
    "print(\"count of u:\",u)\n",
    "print(\"count of A\",A)\n",
    "print(\"count of E:\",E)\n",
    "print(\"count of I\",I)\n",
    "print(\"count of O\",O)\n",
    "print(\"count of U\",U)"
   ]
  },
  {
   "cell_type": "code",
   "execution_count": 11,
   "id": "569efcec-3277-46c1-80e7-71b2f85024b1",
   "metadata": {},
   "outputs": [
    {
     "name": "stdin",
     "output_type": "stream",
     "text": [
      "enter a string: Ayushi\n"
     ]
    },
    {
     "name": "stdout",
     "output_type": "stream",
     "text": [
      "3\n"
     ]
    }
   ],
   "source": [
    "def count_vowels(text):\n",
    "    vowels=\"aeiouAEIOU\"\n",
    "    return sum(1 for char in text if char in vowels)\n",
    "text=input(\"enter a string:\")\n",
    "print(count_vowels(text))"
   ]
  },
  {
   "cell_type": "code",
   "execution_count": 14,
   "id": "62211193-ebe6-4dd6-901f-bd4362440d92",
   "metadata": {},
   "outputs": [
    {
     "name": "stdin",
     "output_type": "stream",
     "text": [
      "enter a number: 2\n",
      "enter a number: 3\n"
     ]
    },
    {
     "name": "stdout",
     "output_type": "stream",
     "text": [
      "5\n"
     ]
    }
   ],
   "source": [
    "def sum():\n",
    "    sum=a+b\n",
    "    return sum\n",
    "a=int(input(\"enter a number:\"))\n",
    "b=int(input(\"enter a number:\"))\n",
    "print(sum())"
   ]
  },
  {
   "cell_type": "code",
   "execution_count": 1,
   "id": "bf2bb3ca-a720-4433-ba92-d893953c3820",
   "metadata": {},
   "outputs": [
    {
     "name": "stdout",
     "output_type": "stream",
     "text": [
      "3\n",
      "2\n"
     ]
    }
   ],
   "source": [
    "a=2\n",
    "b=3\n",
    "print(a and b)\n",
    "print(a&b)"
   ]
  },
  {
   "cell_type": "code",
   "execution_count": 2,
   "id": "846b1635-42d4-4dc9-84ab-835285b713ed",
   "metadata": {},
   "outputs": [
    {
     "name": "stdout",
     "output_type": "stream",
     "text": [
      "I want a long vacation\n",
      "I want a lo\n",
      " \n",
      " \n",
      "noitacav gnol a tnaw I\n",
      "Iwn\n",
      "a\n",
      " a\n"
     ]
    }
   ],
   "source": [
    "str=\"I want a long vacation\"\n",
    "print(str[0:])\n",
    "print(str[0:11])\n",
    "print(str[13])\n",
    "print(str[1::-2])\n",
    "print(str[::-1])\n",
    "print(str[:5:2])\n",
    "print(str[3:4])\n",
    "print(str[6:1:-3])"
   ]
  },
  {
   "cell_type": "code",
   "execution_count": 3,
   "id": "c8a6a509-d51f-44a4-bd4b-9ec49c980395",
   "metadata": {},
   "outputs": [
    {
     "name": "stdin",
     "output_type": "stream",
     "text": [
      "enter a string: ayushi\n"
     ]
    },
    {
     "name": "stdout",
     "output_type": "stream",
     "text": [
      "not a palindrome\n"
     ]
    }
   ],
   "source": [
    "str=input(\"enter a string:\")\n",
    "x=str[::-1]\n",
    "if str==x:\n",
    "    print(\"palindrome\")\n",
    "else:\n",
    "    print(\"not a palindrome\")"
   ]
  },
  {
   "cell_type": "code",
   "execution_count": null,
   "id": "0bbb74ec-2952-4a10-81d9-627fe9ea2d70",
   "metadata": {},
   "outputs": [],
   "source": []
  }
 ],
 "metadata": {
  "kernelspec": {
   "display_name": "Python 3 (ipykernel)",
   "language": "python",
   "name": "python3"
  },
  "language_info": {
   "codemirror_mode": {
    "name": "ipython",
    "version": 3
   },
   "file_extension": ".py",
   "mimetype": "text/x-python",
   "name": "python",
   "nbconvert_exporter": "python",
   "pygments_lexer": "ipython3",
   "version": "3.13.1"
  }
 },
 "nbformat": 4,
 "nbformat_minor": 5
}
