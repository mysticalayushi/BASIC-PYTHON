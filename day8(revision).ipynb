{
 "cells": [
  {
   "cell_type": "code",
   "execution_count": 1,
   "id": "a3e7bd87-41e5-4033-a0ec-1ec0218b3ece",
   "metadata": {},
   "outputs": [
    {
     "name": "stdout",
     "output_type": "stream",
     "text": [
      "Hello World!\n"
     ]
    }
   ],
   "source": [
    "print(\"Hello World!\")"
   ]
  },
  {
   "cell_type": "code",
   "execution_count": 2,
   "id": "482c96b8-ad2e-499b-84f6-c74b2b3daddf",
   "metadata": {},
   "outputs": [
    {
     "name": "stdout",
     "output_type": "stream",
     "text": [
      "orginal 10 20\n",
      "swapped 20 10\n"
     ]
    }
   ],
   "source": [
    "a=10\n",
    "b=20\n",
    "print(\"orginal\",a,b)\n",
    "a,b=b,a\n",
    "print(\"swapped\",a,b)"
   ]
  },
  {
   "cell_type": "code",
   "execution_count": 5,
   "id": "a78c52f0-15c7-4267-bee0-39f08b427f1b",
   "metadata": {},
   "outputs": [
    {
     "name": "stdin",
     "output_type": "stream",
     "text": [
      "enter a number: 56\n"
     ]
    },
    {
     "name": "stdout",
     "output_type": "stream",
     "text": [
      "even\n"
     ]
    }
   ],
   "source": [
    "num=int(input(\"enter a number:\"))\n",
    "if num%2==0:\n",
    "    print(\"even\")\n",
    "else:\n",
    "    print(\"odd\")"
   ]
  },
  {
   "cell_type": "code",
   "execution_count": 14,
   "id": "ad66f5e4-eaec-4f1f-a567-0e08d47e18f1",
   "metadata": {},
   "outputs": [
    {
     "name": "stdin",
     "output_type": "stream",
     "text": [
      "enter a number: 12\n",
      "enter a number: 13\n",
      "enter a number: 13\n"
     ]
    },
    {
     "name": "stdout",
     "output_type": "stream",
     "text": [
      "greatest number is: 13\n"
     ]
    }
   ],
   "source": [
    "num1=int(input(\"enter a number:\"))\n",
    "num2=int(input(\"enter a number:\"))\n",
    "num3=int(input(\"enter a number:\"))\n",
    "if num1>=num2 and num1>=num3:\n",
    "    print(\"greatest number is:\",num1)\n",
    "elif num2>=num1 and num2>=num3:\n",
    "    print(\"greatest number is:\",num2)\n",
    "else:\n",
    "    print(\"greatest number is:\",num3)"
   ]
  },
  {
   "cell_type": "code",
   "execution_count": 22,
   "id": "465c8ea3-a671-4aa0-800c-e043fdb959b3",
   "metadata": {},
   "outputs": [
    {
     "name": "stdin",
     "output_type": "stream",
     "text": [
      "enter a string: 123\n"
     ]
    },
    {
     "name": "stdout",
     "output_type": "stream",
     "text": [
      "<class 'int'>\n"
     ]
    }
   ],
   "source": [
    "string=input(\"enter a string:\")\n",
    "num=int(string)\n",
    "print(type(num))"
   ]
  },
  {
   "cell_type": "code",
   "execution_count": 25,
   "id": "92c3e928-2bfd-44d5-8185-14ce6aa3e509",
   "metadata": {},
   "outputs": [
    {
     "name": "stdout",
     "output_type": "stream",
     "text": [
      "<class 'str'>\n",
      "26\n",
      "<class 'int'>\n"
     ]
    }
   ],
   "source": [
    "hexstr='1A'\n",
    "print(type(hexstr))\n",
    "int_num=int(hexstr,16)\n",
    "print(int_num)\n",
    "print(type(int_num))"
   ]
  },
  {
   "cell_type": "code",
   "execution_count": 33,
   "id": "9d9a8bb2-cdb8-41c6-856e-a992e8fc0d2c",
   "metadata": {},
   "outputs": [
    {
     "name": "stdin",
     "output_type": "stream",
     "text": [
      " 123\n"
     ]
    },
    {
     "name": "stdout",
     "output_type": "stream",
     "text": [
      "<class 'str'>\n"
     ]
    }
   ],
   "source": [
    "string=input()\n",
    "num=int(string)\n",
    "print(type(string))"
   ]
  },
  {
   "cell_type": "code",
   "execution_count": 46,
   "id": "d2f01cc9-aa54-457a-9a43-c3b415eb09f7",
   "metadata": {},
   "outputs": [
    {
     "name": "stdin",
     "output_type": "stream",
     "text": [
      " 12.987\n"
     ]
    },
    {
     "name": "stdout",
     "output_type": "stream",
     "text": [
      "12\n",
      "<class 'int'>\n"
     ]
    }
   ],
   "source": [
    "floating_num=float(input())\n",
    "integer_num=int(floating_num)\n",
    "print(integer_num)\n",
    "print(type(integer_num))"
   ]
  },
  {
   "cell_type": "code",
   "execution_count": 47,
   "id": "8d49e0fc-eea6-423b-ac7b-ae47574d6fe2",
   "metadata": {},
   "outputs": [
    {
     "name": "stdin",
     "output_type": "stream",
     "text": [
      " 1234\n"
     ]
    },
    {
     "name": "stdout",
     "output_type": "stream",
     "text": [
      "1234.0\n",
      "<class 'float'>\n"
     ]
    }
   ],
   "source": [
    "string_number=input()\n",
    "floating_number=float(string_number)\n",
    "print(floating_number)\n",
    "print(type(floating_number))\n"
   ]
  },
  {
   "cell_type": "code",
   "execution_count": 49,
   "id": "5e3d48e8-6be1-4fe7-8931-4e047266318d",
   "metadata": {},
   "outputs": [
    {
     "name": "stdout",
     "output_type": "stream",
     "text": [
      "22.0\n"
     ]
    }
   ],
   "source": [
    "#implicit data type conversion\n",
    "a=12\n",
    "b=10.0\n",
    "print(a+b)"
   ]
  },
  {
   "cell_type": "code",
   "execution_count": 50,
   "id": "fc01207f-d542-4446-aa53-389a28d23391",
   "metadata": {},
   "outputs": [
    {
     "name": "stdout",
     "output_type": "stream",
     "text": [
      "12.0\n",
      "<class 'float'>\n"
     ]
    }
   ],
   "source": [
    "#explicit data type conversion\n",
    "a=12\n",
    "b=float(a)\n",
    "print(b)\n",
    "print(type(b))"
   ]
  },
  {
   "cell_type": "code",
   "execution_count": 56,
   "id": "dd77e8b1-af33-46a9-bc5b-88695e342162",
   "metadata": {},
   "outputs": [
    {
     "name": "stdin",
     "output_type": "stream",
     "text": [
      "enter employee count: 100\n"
     ]
    },
    {
     "name": "stdout",
     "output_type": "stream",
     "text": [
      "0b1100100\n",
      "<class 'str'>\n"
     ]
    }
   ],
   "source": [
    "employee_count=int(input(\"enter employee count:\"))\n",
    "x=bin(employee_count)\n",
    "print(x)\n",
    "print(type(x))"
   ]
  },
  {
   "cell_type": "code",
   "execution_count": 57,
   "id": "731ff337-582f-4b32-ae7f-75c76d906517",
   "metadata": {},
   "outputs": [
    {
     "name": "stdin",
     "output_type": "stream",
     "text": [
      "enter the revenue: 12345.67\n"
     ]
    },
    {
     "name": "stdout",
     "output_type": "stream",
     "text": [
      "$12,345.67\n"
     ]
    }
   ],
   "source": [
    "revenue=float(input(\"enter the revenue:\"))\n",
    "print(f\"${revenue:,.2f}\")"
   ]
  },
  {
   "cell_type": "code",
   "execution_count": 59,
   "id": "971e35c7-78f0-4a46-a6c6-173788e5a25b",
   "metadata": {},
   "outputs": [
    {
     "name": "stdin",
     "output_type": "stream",
     "text": [
      "enter the revenue: 80000000\n"
     ]
    },
    {
     "name": "stdout",
     "output_type": "stream",
     "text": [
      "$80,000,000.00\n"
     ]
    }
   ],
   "source": [
    "revenue=float(input(\"enter the revenue:\"))\n",
    "print(f\"${revenue:,.2f}\")"
   ]
  },
  {
   "cell_type": "code",
   "execution_count": 64,
   "id": "091e3d9c-831c-4e1d-bd78-e9f31a139fbc",
   "metadata": {},
   "outputs": [
    {
     "name": "stdin",
     "output_type": "stream",
     "text": [
      "enter marks in subject 1: 101\n",
      "enter marks in subject 2: 90\n",
      "enter marks in subject 3: 78\n",
      "enter marks in subject 4: 67\n",
      "enter marks in subject 5: 91\n"
     ]
    },
    {
     "name": "stdout",
     "output_type": "stream",
     "text": [
      "Invalid marks entered\n"
     ]
    }
   ],
   "source": [
    "marks1=int(input(\"enter marks in subject 1:\"))\n",
    "marks2=int(input(\"enter marks in subject 2:\"))\n",
    "marks3=int(input(\"enter marks in subject 3:\"))\n",
    "marks4=int(input(\"enter marks in subject 4:\"))\n",
    "marks5=int(input(\"enter marks in subject 5:\"))\n",
    "if marks1<=100 and marks2<=100 and marks3<=100 and marks4<=100 and marks5<=100:\n",
    "    sum=marks1+marks2+marks3+marks4+marks5\n",
    "    print(\"sum of five subjects are:\",sum)\n",
    "    percent=(sum/500)*100\n",
    "    print(\"percentage:\",percent)\n",
    "else:\n",
    "    print(\"Invalid marks entered\")\n",
    "    \n"
   ]
  },
  {
   "cell_type": "code",
   "execution_count": 66,
   "id": "4f4b38a8-09e4-4c90-a1ac-640045a0abae",
   "metadata": {},
   "outputs": [
    {
     "name": "stdin",
     "output_type": "stream",
     "text": [
      "enter the basic: 4567\n",
      "enter the grade: B\n"
     ]
    },
    {
     "name": "stdout",
     "output_type": "stream",
     "text": [
      "gross salary is: 8761.529999999999\n"
     ]
    }
   ],
   "source": [
    "#gross salary\n",
    "basic=float(input(\"enter the basic:\"))\n",
    "grade=input(\"enter the grade:\")\n",
    "HRA=(20/100)*basic\n",
    "DA=(50/100)*basic\n",
    "if grade==\"A\":\n",
    "    allow=1700\n",
    "elif grade==\"B\":\n",
    "    allow=1500\n",
    "else:\n",
    "    allow=1300\n",
    "PF=(11/100)*basic\n",
    "gross_salary=(basic+HRA+DA+allow)-PF\n",
    "print(\"gross salary is:\",gross_salary)\n"
   ]
  },
  {
   "cell_type": "code",
   "execution_count": 68,
   "id": "a923176f-277f-4ca6-bbd9-2d1241189f08",
   "metadata": {},
   "outputs": [
    {
     "name": "stdin",
     "output_type": "stream",
     "text": [
      "enter the temperature in celsius: 37\n"
     ]
    },
    {
     "name": "stdout",
     "output_type": "stream",
     "text": [
      "temperature in fahrenheit degrees is: 98.6\n"
     ]
    }
   ],
   "source": [
    "celsius=float(input(\"enter the temperature in celsius:\"))\n",
    "fahrenheit=(celsius*9/5)+32\n",
    "print(\"temperature in fahrenheit degrees is:\",fahrenheit)"
   ]
  },
  {
   "cell_type": "code",
   "execution_count": 69,
   "id": "1ece54c5-559d-427b-a57c-29c4316c121e",
   "metadata": {},
   "outputs": [
    {
     "name": "stdin",
     "output_type": "stream",
     "text": [
      "enter the temp in fahrenheit: 98.6\n"
     ]
    },
    {
     "name": "stdout",
     "output_type": "stream",
     "text": [
      "temp in celsius degrees is: 37.0\n"
     ]
    }
   ],
   "source": [
    "fahrenheit=float(input(\"enter the temp in fahrenheit:\"))\n",
    "celsius=(fahrenheit-32)*5/9\n",
    "print(\"temp in celsius degrees is:\",celsius)"
   ]
  },
  {
   "cell_type": "code",
   "execution_count": 73,
   "id": "9d683f2b-d23c-4cb6-86eb-0e42bb06da9e",
   "metadata": {},
   "outputs": [
    {
     "name": "stdin",
     "output_type": "stream",
     "text": [
      "enter the mass of body 1 5000000000000\n",
      "enter the mass of body 2 60000000000000\n",
      "enter the distance between two bodies: 80000000000000000000000000000000000000000000000000000000000\n"
     ]
    },
    {
     "name": "stdout",
     "output_type": "stream",
     "text": [
      "gravitational force is: 3.1265625000000007e-102\n"
     ]
    }
   ],
   "source": [
    "G=6.67*(10**-11)\n",
    "m1=float(input(\"enter the mass of body 1\"))\n",
    "m2=float(input(\"enter the mass of body 2\"))\n",
    "r=float(input(\"enter the distance between two bodies:\"))\n",
    "F=(G*m1*m2)/(r**2)\n",
    "print(\"gravitational force is:\",F)\n"
   ]
  },
  {
   "cell_type": "code",
   "execution_count": 74,
   "id": "5ff056d3-db1d-45b6-92ea-0b280188ec8e",
   "metadata": {},
   "outputs": [
    {
     "name": "stdout",
     "output_type": "stream",
     "text": [
      "10 20\n",
      "20 10\n"
     ]
    }
   ],
   "source": [
    "a=10\n",
    "b=20\n",
    "print(a,b)\n",
    "x=a\n",
    "a=b\n",
    "b=x\n",
    "print(a,b)"
   ]
  },
  {
   "cell_type": "code",
   "execution_count": 75,
   "id": "bb9c0b84-a451-44a8-ad8a-ece105b42f0f",
   "metadata": {},
   "outputs": [
    {
     "name": "stdout",
     "output_type": "stream",
     "text": [
      "10 20\n",
      "20 10\n"
     ]
    }
   ],
   "source": [
    "a=10\n",
    "b=20\n",
    "print(a,b)\n",
    "a=a+b\n",
    "b=a-b\n",
    "a=a-b\n",
    "print(a,b)"
   ]
  },
  {
   "cell_type": "code",
   "execution_count": 86,
   "id": "3b89a08d-942b-48c0-9956-3b9fee2c8bc1",
   "metadata": {},
   "outputs": [
    {
     "name": "stdin",
     "output_type": "stream",
     "text": [
      "enter a number: -10.90\n"
     ]
    },
    {
     "name": "stdout",
     "output_type": "stream",
     "text": [
      "10.9\n"
     ]
    }
   ],
   "source": [
    "import math\n",
    "num=float(input(\"enter a number:\"))\n",
    "print(math.fabs(num))"
   ]
  },
  {
   "cell_type": "code",
   "execution_count": 92,
   "id": "6d7a7633-631d-438d-8bc1-6d32ff608b7b",
   "metadata": {},
   "outputs": [
    {
     "name": "stdout",
     "output_type": "stream",
     "text": [
      "(3+4j)\n"
     ]
    }
   ],
   "source": [
    "x=3\n",
    "y=4\n",
    "print(complex(x,y))"
   ]
  },
  {
   "cell_type": "code",
   "execution_count": 96,
   "id": "a8473ccf-8f13-440b-ab51-1fd39c48cd1f",
   "metadata": {},
   "outputs": [
    {
     "name": "stdin",
     "output_type": "stream",
     "text": [
      "enter real part of first number: -5.89\n",
      "enter real part of second number: -9.00\n",
      "enter imaginary part of first number: 6\n",
      "enter imaginary part of second number: 5.45\n"
     ]
    },
    {
     "name": "stdout",
     "output_type": "stream",
     "text": [
      "(-14.89+11.45j)\n"
     ]
    }
   ],
   "source": [
    "real1=float(input(\"enter real part of first number:\"))\n",
    "real2=float(input(\"enter real part of second number:\"))\n",
    "imag1=float(input(\"enter imaginary part of first number:\"))\n",
    "imag2=float(input(\"enter imaginary part of second number:\"))\n",
    "x=complex(real1,imag1)\n",
    "y=complex(real2,imag2)\n",
    "print(x+y)"
   ]
  },
  {
   "cell_type": "code",
   "execution_count": 6,
   "id": "213ce0c0-c502-49c1-83aa-29978e88468a",
   "metadata": {},
   "outputs": [
    {
     "name": "stdin",
     "output_type": "stream",
     "text": [
      "enter a: 2\n",
      "enter b: 3\n",
      "enter c: 4\n"
     ]
    },
    {
     "name": "stdout",
     "output_type": "stream",
     "text": [
      "roots are: (-3+1.1989578808281798j) (-3-1.1989578808281798j)\n"
     ]
    }
   ],
   "source": [
    "a=float(input(\"enter a:\"))\n",
    "b=float(input(\"enter b:\"))\n",
    "c=float(input(\"enter c:\"))\n",
    "D=(b**2)-(4*a*c)\n",
    "root1=(b*-1)+(D**0.5)/(2*a)\n",
    "root2=(b*-1)-(D**0.5)/(2*a)\n",
    "print(\"roots are:\",root1,root2)"
   ]
  },
  {
   "cell_type": "code",
   "execution_count": 15,
   "id": "0d8ae45d-6ad0-4f31-a851-0ff522f34176",
   "metadata": {},
   "outputs": [
    {
     "name": "stdin",
     "output_type": "stream",
     "text": [
      "enter a string: Ayushi\n"
     ]
    },
    {
     "name": "stdout",
     "output_type": "stream",
     "text": [
      "<built-in method upper of str object at 0x00000215AF30DC80>\n"
     ]
    }
   ],
   "source": [
    "string=input(\"enter a string:\")\n",
    "mylist=string.split()\n",
    "for i in :\n",
    "    if i.isupper==\"True\":\n",
    "        print(i.lower)\n",
    "    else:\n",
    "        print(i.upper)"
   ]
  },
  {
   "cell_type": "code",
   "execution_count": 20,
   "id": "267dc583-2c33-4f00-a38b-c7feb2c8ff97",
   "metadata": {},
   "outputs": [
    {
     "name": "stdin",
     "output_type": "stream",
     "text": [
      "enter the year: 2025\n"
     ]
    },
    {
     "name": "stdout",
     "output_type": "stream",
     "text": [
      "2025 is not a leap year\n"
     ]
    }
   ],
   "source": [
    "year=int(input(\"enter the year:\"))\n",
    "if (year%4==0 and year%100!=0) or (year%400==0):\n",
    "    print(f\"{year} is a leap year\")\n",
    "else:\n",
    "    print(f\"{year} is not a leap year\")"
   ]
  },
  {
   "cell_type": "code",
   "execution_count": 27,
   "id": "712cabbd-d383-4dd8-844e-025d6d42c6b3",
   "metadata": {},
   "outputs": [
    {
     "name": "stdin",
     "output_type": "stream",
     "text": [
      "enter an alphabet: H\n"
     ]
    },
    {
     "name": "stdout",
     "output_type": "stream",
     "text": [
      "H is a consonant\n"
     ]
    }
   ],
   "source": [
    "string=input(\"enter an alphabet:\")\n",
    "if string in \"AEIOUaeiou\":\n",
    "    print(f\"{string} is a vowel\")\n",
    "else:\n",
    "    print(f\"{string} is a consonant\")\n"
   ]
  },
  {
   "cell_type": "code",
   "execution_count": 44,
   "id": "d4de5184-92a8-4d91-8bbe-54b1f5c9426f",
   "metadata": {},
   "outputs": [
    {
     "name": "stdin",
     "output_type": "stream",
     "text": [
      "enter a character: 0\n"
     ]
    },
    {
     "name": "stdout",
     "output_type": "stream",
     "text": [
      "0 is a digit\n"
     ]
    }
   ],
   "source": [
    "char=input(\"enter a character:\")\n",
    "if char in \"AEIOUaeiou\":\n",
    "    print(f\"{char} is a vowel\")\n",
    "elif char in \"BCDFGHJKLMNPQRSTVWXYZbcdfghjklmnpqrstvwxyz\":\n",
    "    print(f\"{char} is a consonant\")\n",
    "elif char in \"1234567890\":\n",
    "    print(f\"{char} is a digit\")\n",
    "else:\n",
    "    print(\"invalid character\")"
   ]
  },
  {
   "cell_type": "code",
   "execution_count": 47,
   "id": "747dee96-9c7c-409d-be13-59e61b9f732f",
   "metadata": {},
   "outputs": [
    {
     "name": "stdin",
     "output_type": "stream",
     "text": [
      "enter the number for table: 18\n"
     ]
    },
    {
     "name": "stdout",
     "output_type": "stream",
     "text": [
      "18 x 1 = 18\n",
      "18 x 2 = 36\n",
      "18 x 3 = 54\n",
      "18 x 4 = 72\n",
      "18 x 5 = 90\n",
      "18 x 6 = 108\n",
      "18 x 7 = 126\n",
      "18 x 8 = 144\n",
      "18 x 9 = 162\n",
      "18 x 10 = 180\n"
     ]
    }
   ],
   "source": [
    "num=int(input(\"enter the number for table:\"))\n",
    "for i in range(1,11):\n",
    "    x=num*i\n",
    "    print(f\"{num} x {i} = {x}\")"
   ]
  },
  {
   "cell_type": "code",
   "execution_count": 48,
   "id": "4f5b634c-5e60-4deb-9810-7ac0e44849b0",
   "metadata": {},
   "outputs": [
    {
     "name": "stdout",
     "output_type": "stream",
     "text": [
      "sum of first 50nnatural numbers are: 1325\n"
     ]
    }
   ],
   "source": [
    "sum=0\n",
    "for i in range (1,51):\n",
    "    sum=sum+i\n",
    "    sum+=1\n",
    "print(\"sum of first 50nnatural numbers are:\",sum)"
   ]
  },
  {
   "cell_type": "code",
   "execution_count": 51,
   "id": "af7b4620-9664-4a61-8a06-ffde6c0ebff7",
   "metadata": {},
   "outputs": [
    {
     "name": "stdin",
     "output_type": "stream",
     "text": [
      "enter the number: 5\n"
     ]
    },
    {
     "name": "stdout",
     "output_type": "stream",
     "text": [
      "factorial of 5 is 120\n"
     ]
    }
   ],
   "source": [
    "num=int(input(\"enter the number:\"))\n",
    "fac=1\n",
    "for i in range(1,num+1):\n",
    "    fac=fac*i\n",
    "print(f\"factorial of {num} is {fac}\")\n",
    "    "
   ]
  },
  {
   "cell_type": "code",
   "execution_count": 56,
   "id": "c30cb6d6-8822-4e74-8e5c-43a70382dba8",
   "metadata": {},
   "outputs": [
    {
     "name": "stdin",
     "output_type": "stream",
     "text": [
      "enter the number: 45\n"
     ]
    },
    {
     "name": "stdout",
     "output_type": "stream",
     "text": [
      "sum of the digits of 0 is 9\n"
     ]
    }
   ],
   "source": [
    "num=int(input(\"enter the number:\"))\n",
    "sum=0\n",
    "while num!=0:\n",
    "    digit=num%10\n",
    "    sum=sum+digit\n",
    "    num=num//10\n",
    "print(f\"sum of the digits of {num} is {sum}\")\n"
   ]
  },
  {
   "cell_type": "code",
   "execution_count": 57,
   "id": "faa9bb1d-4eff-4a87-975a-e88780ee6b7d",
   "metadata": {},
   "outputs": [
    {
     "name": "stdin",
     "output_type": "stream",
     "text": [
      "enter the number: 123\n"
     ]
    },
    {
     "name": "stdout",
     "output_type": "stream",
     "text": [
      "321\n"
     ]
    }
   ],
   "source": [
    "num=int(input(\"enter the number:\"))\n",
    "num1=str(num)\n",
    "print(num1[::-1])"
   ]
  },
  {
   "cell_type": "code",
   "execution_count": 76,
   "id": "c466d57d-348f-4b7e-b346-80e5a416f3d1",
   "metadata": {},
   "outputs": [
    {
     "name": "stdin",
     "output_type": "stream",
     "text": [
      "enter the number: 28\n"
     ]
    },
    {
     "name": "stdout",
     "output_type": "stream",
     "text": [
      "28 is a perfect number\n"
     ]
    }
   ],
   "source": [
    "#perfect number\n",
    "num=int(input(\"enter the number:\"))\n",
    "sum=0\n",
    "for i in range(1,num):\n",
    "    if num%i==0:\n",
    "        sum=sum+i\n",
    "if sum==num:\n",
    "    print(f\"{num} is a perfect number\")\n",
    "else:\n",
    "    print(f\"{num} is a not a perfect number\")\n",
    "        "
   ]
  },
  {
   "cell_type": "code",
   "execution_count": 87,
   "id": "df114308-d4d9-4449-8182-ec63c4e58a11",
   "metadata": {},
   "outputs": [
    {
     "name": "stdin",
     "output_type": "stream",
     "text": [
      "enter a number: 153\n"
     ]
    },
    {
     "name": "stdout",
     "output_type": "stream",
     "text": [
      "0 is not an armstrong number\n"
     ]
    }
   ],
   "source": [
    "#armstrong number\n",
    "num=int(input(\"enter a number:\"))\n",
    "order=len(str(num))\n",
    "sum=0\n",
    "while num!=0:\n",
    "    digit=num%10\n",
    "    x=digit**order\n",
    "    sum=sum+x\n",
    "    num=num//10\n",
    "if num==sum:\n",
    "    print(f\"{num} is an armstrong number\")\n",
    "else:\n",
    "    print(f\"{num} is not an armstrong number\")\n",
    "\n",
    "\n"
   ]
  },
  {
   "cell_type": "code",
   "execution_count": 34,
   "id": "0b60bcf8-946a-42f6-94ea-b9a149003fad",
   "metadata": {},
   "outputs": [
    {
     "name": "stdin",
     "output_type": "stream",
     "text": [
      "enter a number: 7\n"
     ]
    },
    {
     "name": "stdout",
     "output_type": "stream",
     "text": [
      "7 is a prime number\n"
     ]
    }
   ],
   "source": [
    "#checks whether a given number is prime or not\n",
    "num=int(input(\"enter a number:\"))\n",
    "if num==1:\n",
    "    print(\"1 is neither prime nor composite\")\n",
    "elif num==2:\n",
    "    print(\"2 is a prime number\")\n",
    "elif num>1:\n",
    "    for i in range(2,num):\n",
    "        if num%i==0:\n",
    "            print(f\"{num} is a composite number\")\n",
    "            break\n",
    "    else:\n",
    "        print(f\"{num} is a prime number\")\n",
    "else:\n",
    "    print(\"Invalid number\")\n",
    "        "
   ]
  },
  {
   "cell_type": "code",
   "execution_count": 37,
   "id": "531954d6-0f48-4ddf-83bf-5d0e483cdba8",
   "metadata": {},
   "outputs": [
    {
     "name": "stdout",
     "output_type": "stream",
     "text": [
      "1 2 3 5 7 11 13 17 19 23 29 31 37 41 43 47 53 59 61 67 71 73 79 83 89 97 101 103 107 109 113 127 131 137 139 149 151 157 163 167 173 179 181 191 193 197 199 211 223 227 229 233 239 241 251 257 263 269 271 277 281 283 293 307 311 313 317 331 337 347 349 353 359 367 373 379 383 389 397 401 409 419 421 431 433 439 443 449 457 461 463 467 479 487 491 499 "
     ]
    }
   ],
   "source": [
    "#all prime numbers between 1 and 500\n",
    "for i in range(1,501):\n",
    "    for j in range(2,i):\n",
    "        if i%j==0:\n",
    "            break\n",
    "    else:\n",
    "        print(i,end=\" \")\n",
    "        "
   ]
  },
  {
   "cell_type": "code",
   "execution_count": 44,
   "id": "5207266b-e6da-437c-8969-3c4a782738ac",
   "metadata": {},
   "outputs": [
    {
     "name": "stdout",
     "output_type": "stream",
     "text": [
      "76127\n"
     ]
    }
   ],
   "source": [
    "#sum of all prime numbers from 1-1000\n",
    "sum=0\n",
    "for i in range(2,1001):#1 is neither prime nor composite \n",
    "    for j in range(2,i):\n",
    "        if i%j==0:\n",
    "            break\n",
    "    else:\n",
    "        sum=sum+i\n",
    "print(sum)"
   ]
  },
  {
   "cell_type": "code",
   "execution_count": null,
   "id": "a596c6db-ec48-4e38-8296-85c90bffafec",
   "metadata": {},
   "outputs": [],
   "source": []
  }
 ],
 "metadata": {
  "kernelspec": {
   "display_name": "Python 3 (ipykernel)",
   "language": "python",
   "name": "python3"
  },
  "language_info": {
   "codemirror_mode": {
    "name": "ipython",
    "version": 3
   },
   "file_extension": ".py",
   "mimetype": "text/x-python",
   "name": "python",
   "nbconvert_exporter": "python",
   "pygments_lexer": "ipython3",
   "version": "3.13.1"
  }
 },
 "nbformat": 4,
 "nbformat_minor": 5
}
