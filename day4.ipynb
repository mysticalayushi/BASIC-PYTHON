{
 "cells": [
  {
   "cell_type": "code",
   "execution_count": 2,
   "id": "a1718334-5f12-42f4-8588-0a0c0d3da176",
   "metadata": {},
   "outputs": [
    {
     "name": "stdout",
     "output_type": "stream",
     "text": [
      "[('name', 'ayushi'), ('age', 18), ('hobby', 'reading')]\n"
     ]
    }
   ],
   "source": [
    "l1=[\"name\",\"age\",\"hobby\"]\n",
    "l2=[\"ayushi\",18,\"reading\"]\n",
    "l3=list(zip(l1,l2))\n",
    "print(l3)"
   ]
  },
  {
   "cell_type": "code",
   "execution_count": 3,
   "id": "fa4de5a6-fb40-40bb-9675-b1b5f52abad1",
   "metadata": {},
   "outputs": [
    {
     "name": "stdout",
     "output_type": "stream",
     "text": [
      "{'name': 'ayushi', 'age': 18, 'hobby': 'reading'}\n"
     ]
    }
   ],
   "source": [
    "l1=[\"name\",\"age\",\"hobby\"]\n",
    "l2=[\"ayushi\",18,\"reading\"]\n",
    "dic=dict(zip(l1,l2))\n",
    "print(dic)"
   ]
  },
  {
   "cell_type": "code",
   "execution_count": 4,
   "id": "4702d69f-7ff2-412b-b4d3-8f624c5f5ce8",
   "metadata": {},
   "outputs": [
    {
     "name": "stdout",
     "output_type": "stream",
     "text": [
      "(('name', 'ayushi'), ('age', 18), ('hobby', 'reading'))\n"
     ]
    }
   ],
   "source": [
    "l1=[\"name\",\"age\",\"hobby\"]\n",
    "l2=[\"ayushi\",18,\"reading\"]\n",
    "tup=tuple(zip(l1,l2))\n",
    "print(tup)"
   ]
  },
  {
   "cell_type": "code",
   "execution_count": 6,
   "id": "a66b55ec-044f-4796-bb72-63731f461a83",
   "metadata": {},
   "outputs": [
    {
     "name": "stdout",
     "output_type": "stream",
     "text": [
      "<zip object at 0x0000019853CEADC0>\n"
     ]
    }
   ],
   "source": [
    "l1=[\"name\",\"age\",\"hobby\"]\n",
    "l2=[\"ayushi\",18,\"reading\"]\n",
    "l3=zip(l1,l2)\n",
    "print(l3)"
   ]
  },
  {
   "cell_type": "code",
   "execution_count": 8,
   "id": "43828403-31fe-4009-b4b0-81aa0b00f724",
   "metadata": {},
   "outputs": [
    {
     "name": "stdin",
     "output_type": "stream",
     "text": [
      "enter a number: 3\n"
     ]
    },
    {
     "name": "stdout",
     "output_type": "stream",
     "text": [
      "\u0003\n"
     ]
    }
   ],
   "source": [
    "n=int(input(\"enter a number:\"))\n",
    "print(chr(n))"
   ]
  },
  {
   "cell_type": "code",
   "execution_count": 13,
   "id": "59caa59b-f22a-4515-a32d-3392e7799489",
   "metadata": {},
   "outputs": [
    {
     "name": "stdout",
     "output_type": "stream",
     "text": [
      "['ayushi', 18, 'Delhi', 'kiwi']\n"
     ]
    }
   ],
   "source": [
    "mylist=[\"ayushi\",18,\"Delhi\"]\n",
    "mylist.append(\"kiwi\")\n",
    "print(mylist)"
   ]
  },
  {
   "cell_type": "code",
   "execution_count": 16,
   "id": "9a227c85-a996-409e-a17b-b4c7576641b7",
   "metadata": {},
   "outputs": [
    {
     "name": "stdout",
     "output_type": "stream",
     "text": [
      "[1, 2, 3, 'four', 'five']\n"
     ]
    }
   ],
   "source": [
    "mylist=[1,2,3,\"four\"]\n",
    "five=[\"five\"]\n",
    "mylist.extend(five)\n",
    "print(mylist)"
   ]
  },
  {
   "cell_type": "code",
   "execution_count": 17,
   "id": "85f7cc06-3095-4f04-acef-66a47fe04300",
   "metadata": {},
   "outputs": [
    {
     "name": "stdout",
     "output_type": "stream",
     "text": [
      "[1, 2, 3, 4, 5, 6, 7]\n"
     ]
    }
   ],
   "source": [
    "mylist=[1,2,3,4]\n",
    "mylist1=[5,6,7]\n",
    "mylist.extend(mylist1)\n",
    "print(mylist)"
   ]
  },
  {
   "cell_type": "code",
   "execution_count": 18,
   "id": "6e4b7b48-b1c9-4edf-9f1e-4fd798303132",
   "metadata": {},
   "outputs": [
    {
     "name": "stdout",
     "output_type": "stream",
     "text": [
      "['abc', 'xyz', 18, 20, 'pqr', 12]\n"
     ]
    }
   ],
   "source": [
    "mylist=[\"abc\",\"xyz\",18,20]\n",
    "mytup=(\"pqr\",12)\n",
    "mylist.extend(mytup)\n",
    "print(mylist)"
   ]
  },
  {
   "cell_type": "code",
   "execution_count": 19,
   "id": "5814b346-f106-482e-a95e-872c0e3ccf34",
   "metadata": {},
   "outputs": [
    {
     "name": "stdout",
     "output_type": "stream",
     "text": [
      "[1, 2, 3, 'name', 'age']\n"
     ]
    }
   ],
   "source": [
    "mylist=[1,2,3]\n",
    "dic={\"name\":\"ayushi\",\"age\":18}\n",
    "mylist.extend(dic)\n",
    "print(mylist)"
   ]
  },
  {
   "cell_type": "code",
   "execution_count": 20,
   "id": "4cacceaf-99e4-449c-b4e1-e777bf901b59",
   "metadata": {},
   "outputs": [
    {
     "name": "stdout",
     "output_type": "stream",
     "text": [
      "[1, 2, 3, 'a', 'y', 'u', 's', 'h', 'i']\n"
     ]
    }
   ],
   "source": [
    "mylist=[1,2,3]\n",
    "string=\"ayushi\"\n",
    "mylist.extend(string)\n",
    "print(mylist)"
   ]
  },
  {
   "cell_type": "code",
   "execution_count": 22,
   "id": "87e9a0cc-3ec9-4535-a10a-95b0c2dfc27d",
   "metadata": {},
   "outputs": [
    {
     "name": "stdout",
     "output_type": "stream",
     "text": [
      "['ayushi', 18, 'mango']\n"
     ]
    }
   ],
   "source": [
    "mylist=[\"ayushi\",18]\n",
    "mylist.insert(2,\"mango\")\n",
    "print(mylist)"
   ]
  },
  {
   "cell_type": "code",
   "execution_count": 23,
   "id": "19bbceff-7601-41a1-8165-d693a9f9dca8",
   "metadata": {},
   "outputs": [
    {
     "name": "stdout",
     "output_type": "stream",
     "text": [
      "['ayushi', 18, 1200]\n"
     ]
    }
   ],
   "source": [
    "mylist=[\"ayushi\",18]\n",
    "mylist.insert(4,1200)\n",
    "print(mylist)"
   ]
  },
  {
   "cell_type": "code",
   "execution_count": 25,
   "id": "88bffe37-0a92-4c32-a6f3-4c57f62f58ef",
   "metadata": {},
   "outputs": [
    {
     "name": "stdout",
     "output_type": "stream",
     "text": [
      "['ayushi', 'akshita', 18]\n"
     ]
    }
   ],
   "source": [
    "mylist=[\"ayushi\",\"akshita\",18,17]\n",
    "mylist.remove(17)\n",
    "print(mylist)"
   ]
  },
  {
   "cell_type": "code",
   "execution_count": 28,
   "id": "beef31c0-2760-4fdb-8731-a32d5365f64a",
   "metadata": {},
   "outputs": [
    {
     "name": "stdout",
     "output_type": "stream",
     "text": [
      "['akshita', 18, 17]\n"
     ]
    }
   ],
   "source": [
    "mylist=[\"ayushi\",\"akshita\",18,17]\n",
    "mylist.pop(0)\n",
    "print(mylist)"
   ]
  },
  {
   "cell_type": "code",
   "execution_count": 29,
   "id": "cf0b9f8f-84e7-4534-b820-cbb4b5663e48",
   "metadata": {},
   "outputs": [
    {
     "name": "stdout",
     "output_type": "stream",
     "text": [
      "[17, 18, 'akshita', 'ayushi']\n"
     ]
    }
   ],
   "source": [
    "mylist=[\"ayushi\",\"akshita\",18,17]\n",
    "mylist.reverse()\n",
    "print(mylist)"
   ]
  },
  {
   "cell_type": "code",
   "execution_count": 34,
   "id": "2336ee7a-7983-473e-990b-7cfa19ae3968",
   "metadata": {},
   "outputs": [
    {
     "name": "stdout",
     "output_type": "stream",
     "text": [
      "1\n"
     ]
    }
   ],
   "source": [
    "mylist=[1,2,3,\"apple\",2,3,3,4]\n",
    "count=mylist.count(\"apple\")\n",
    "print(count)"
   ]
  },
  {
   "cell_type": "code",
   "execution_count": 35,
   "id": "98484495-e88c-483f-b1ce-55af54a931d2",
   "metadata": {},
   "outputs": [
    {
     "name": "stdout",
     "output_type": "stream",
     "text": [
      "3\n"
     ]
    }
   ],
   "source": [
    "mylist=[1,2,3,\"apple\",2,3,3,4]\n",
    "count=mylist.count(3)\n",
    "print(count)"
   ]
  },
  {
   "cell_type": "code",
   "execution_count": 42,
   "id": "09177f93-df34-437b-adf4-c30ce1f7ac83",
   "metadata": {},
   "outputs": [
    {
     "name": "stdout",
     "output_type": "stream",
     "text": [
      "[1, 2, 3, 4]\n"
     ]
    }
   ],
   "source": [
    "l1=[1,2]\n",
    "l2=[3,4]\n",
    "l3=l1+l2\n",
    "print(l3)"
   ]
  },
  {
   "cell_type": "code",
   "execution_count": 43,
   "id": "168723c7-5daf-446b-a096-fb32520c0008",
   "metadata": {},
   "outputs": [
    {
     "name": "stdout",
     "output_type": "stream",
     "text": [
      "[1, 2, 1, 2]\n"
     ]
    }
   ],
   "source": [
    "l1=[1,2]\n",
    "l2=l1*2\n",
    "print(l2)"
   ]
  },
  {
   "cell_type": "code",
   "execution_count": 44,
   "id": "08789bfb-6ea1-4ae9-97e5-ac4a6b50cd64",
   "metadata": {},
   "outputs": [
    {
     "name": "stdout",
     "output_type": "stream",
     "text": [
      "1\n"
     ]
    }
   ],
   "source": [
    "l1=[1,3,3,2,8]\n",
    "ind=l1.index(3)\n",
    "print(ind)"
   ]
  },
  {
   "cell_type": "code",
   "execution_count": 45,
   "id": "eb306ea4-6218-43f5-aade-4c30630d592f",
   "metadata": {},
   "outputs": [
    {
     "name": "stdout",
     "output_type": "stream",
     "text": [
      "[4, 5, 6, 7, 8, 9]\n"
     ]
    }
   ],
   "source": [
    "l1=[9,8,6,7,4,5]\n",
    "l1.sort()\n",
    "print(l1)"
   ]
  },
  {
   "cell_type": "code",
   "execution_count": 49,
   "id": "020310bd-73e7-4500-89c1-4d874c1ac736",
   "metadata": {},
   "outputs": [
    {
     "name": "stdout",
     "output_type": "stream",
     "text": [
      "['apple', 'kiwi', 'strawberry']\n"
     ]
    }
   ],
   "source": [
    "l1=[\"apple\",\"kiwi\",\"strawberry\"]\n",
    "l1.sort()\n",
    "print(l1)"
   ]
  },
  {
   "cell_type": "code",
   "execution_count": 53,
   "id": "4e491c12-b2dd-44e4-82ac-693a99e7b424",
   "metadata": {},
   "outputs": [
    {
     "name": "stdout",
     "output_type": "stream",
     "text": [
      "22\n"
     ]
    }
   ],
   "source": [
    "num=22.89\n",
    "num=int(num)\n",
    "print(num)"
   ]
  },
  {
   "cell_type": "code",
   "execution_count": 56,
   "id": "93ff4edc-3e97-42a0-ad3c-270c171e05fa",
   "metadata": {},
   "outputs": [
    {
     "name": "stdout",
     "output_type": "stream",
     "text": [
      "0o310\n"
     ]
    }
   ],
   "source": [
    "num=200\n",
    "num=oct(num)\n",
    "print(num)"
   ]
  },
  {
   "cell_type": "code",
   "execution_count": 57,
   "id": "70152b38-7a45-4124-a928-186c56c3384f",
   "metadata": {},
   "outputs": [
    {
     "name": "stdout",
     "output_type": "stream",
     "text": [
      "0x2a6\n"
     ]
    }
   ],
   "source": [
    "num=678\n",
    "num=hex(num)\n",
    "print(num)"
   ]
  },
  {
   "cell_type": "code",
   "execution_count": 58,
   "id": "8bfb0966-92fc-4ebc-acf0-f36c8fa09aad",
   "metadata": {},
   "outputs": [
    {
     "name": "stdout",
     "output_type": "stream",
     "text": [
      "0b1100100\n"
     ]
    }
   ],
   "source": [
    "num=100\n",
    "num=bin(num)\n",
    "print(num)"
   ]
  },
  {
   "cell_type": "code",
   "execution_count": 64,
   "id": "8ed08182-8c22-456d-95d0-962df29a8fd5",
   "metadata": {},
   "outputs": [
    {
     "name": "stdout",
     "output_type": "stream",
     "text": [
      "65\n"
     ]
    }
   ],
   "source": [
    "print(ord(\"A\"))"
   ]
  },
  {
   "cell_type": "code",
   "execution_count": 66,
   "id": "4019b48c-559e-4624-a09a-e61c2ff6c019",
   "metadata": {},
   "outputs": [
    {
     "name": "stdout",
     "output_type": "stream",
     "text": [
      "42\n"
     ]
    }
   ],
   "source": [
    "print(ord(\"*\"))"
   ]
  },
  {
   "cell_type": "code",
   "execution_count": 67,
   "id": "879ca67c-045f-4bcc-87b0-9281f684bed9",
   "metadata": {},
   "outputs": [
    {
     "name": "stdout",
     "output_type": "stream",
     "text": [
      "40\n"
     ]
    }
   ],
   "source": [
    "print(ord(\"(\"))"
   ]
  },
  {
   "cell_type": "code",
   "execution_count": 68,
   "id": "32c45ed4-c1ef-48a1-917c-bbfc586c315b",
   "metadata": {},
   "outputs": [
    {
     "name": "stdout",
     "output_type": "stream",
     "text": [
      "\u0007\n"
     ]
    }
   ],
   "source": [
    "print(chr(7))"
   ]
  },
  {
   "cell_type": "code",
   "execution_count": 69,
   "id": "eef77526-62a5-47ed-bc35-9a8965fcf41f",
   "metadata": {},
   "outputs": [
    {
     "name": "stdout",
     "output_type": "stream",
     "text": [
      "\n"
     ]
    }
   ],
   "source": [
    "print(chr(152))"
   ]
  },
  {
   "cell_type": "code",
   "execution_count": 70,
   "id": "753accaa-2f17-4788-8153-9f8f5a013502",
   "metadata": {},
   "outputs": [
    {
     "name": "stdout",
     "output_type": "stream",
     "text": [
      "9\n"
     ]
    }
   ],
   "source": [
    "print(chr(57))"
   ]
  },
  {
   "cell_type": "code",
   "execution_count": 71,
   "id": "53292150-06d4-43f3-b615-cd4f13c106e4",
   "metadata": {},
   "outputs": [
    {
     "name": "stdin",
     "output_type": "stream",
     "text": [
      " 23\n",
      " 45\n",
      " 67\n"
     ]
    },
    {
     "name": "stdout",
     "output_type": "stream",
     "text": [
      "num1 is 23 and num2 is 45 and num3 is 67\n"
     ]
    }
   ],
   "source": [
    "num1=int(input())\n",
    "num2=int(input())\n",
    "num3=int(input())\n",
    "print(\"num1 is {} and num2 is {} and num3 is {}\".format(num1,num2,num3))"
   ]
  },
  {
   "cell_type": "code",
   "execution_count": 77,
   "id": "665e30fd-30df-42ed-bd2c-09dfdac98c05",
   "metadata": {},
   "outputs": [
    {
     "name": "stdin",
     "output_type": "stream",
     "text": [
      " a\n",
      " b\n",
      " c\n"
     ]
    },
    {
     "name": "stdout",
     "output_type": "stream",
     "text": [
      "str1 is a and str2 is b and str3 is c\n"
     ]
    }
   ],
   "source": [
    "str1=input()\n",
    "str2=input()\n",
    "str3=input()\n",
    "print(\"str1 is {} and str2 is {} and str3 is {}\".format(str1,str2,str3))"
   ]
  },
  {
   "cell_type": "code",
   "execution_count": 78,
   "id": "4835aab8-2e86-4a5f-b498-830a3637636f",
   "metadata": {},
   "outputs": [
    {
     "name": "stdout",
     "output_type": "stream",
     "text": [
      "{1, 2, 3, 'abc'}\n"
     ]
    }
   ],
   "source": [
    "mylist=[1,2,3,\"abc\"]\n",
    "mylist=set(mylist)\n",
    "print(mylist)"
   ]
  },
  {
   "cell_type": "code",
   "execution_count": 79,
   "id": "ac34611b-a06f-4b97-b1e5-2203cf748432",
   "metadata": {},
   "outputs": [
    {
     "name": "stdout",
     "output_type": "stream",
     "text": [
      "(1, 2, 3, 'abc')\n"
     ]
    }
   ],
   "source": [
    "mylist=[1,2,3,\"abc\"]\n",
    "mylist=tuple(mylist)\n",
    "print(mylist)"
   ]
  },
  {
   "cell_type": "code",
   "execution_count": 81,
   "id": "1f5b5db3-a7e1-44eb-94f2-489a02dadbd1",
   "metadata": {},
   "outputs": [
    {
     "name": "stdin",
     "output_type": "stream",
     "text": [
      "enter your age: 18\n"
     ]
    },
    {
     "name": "stdout",
     "output_type": "stream",
     "text": [
      "eligible for voting\n"
     ]
    }
   ],
   "source": [
    "age=int(input(\"enter your age:\"))\n",
    "if age>=18:\n",
    "    print(\"eligible for voting\")\n",
    "else:\n",
    "    print(\"not eligible for voting\")"
   ]
  },
  {
   "cell_type": "code",
   "execution_count": 82,
   "id": "d0c849f0-8593-42d2-b10f-a15c5e5b714f",
   "metadata": {},
   "outputs": [
    {
     "name": "stdin",
     "output_type": "stream",
     "text": [
      "enter your age: 12\n"
     ]
    },
    {
     "name": "stdout",
     "output_type": "stream",
     "text": [
      "not eligible for voting\n"
     ]
    }
   ],
   "source": [
    "age=int(input(\"enter your age:\"))\n",
    "if age>=18:\n",
    "    print(\"eligible for voting\")\n",
    "else:\n",
    "    print(\"not eligible for voting\")"
   ]
  },
  {
   "cell_type": "code",
   "execution_count": 83,
   "id": "446f2909-6244-49d1-8a30-90461a69b55f",
   "metadata": {},
   "outputs": [
    {
     "name": "stdin",
     "output_type": "stream",
     "text": [
      "enter your marks: 89\n"
     ]
    },
    {
     "name": "stdout",
     "output_type": "stream",
     "text": [
      "pass\n"
     ]
    }
   ],
   "source": [
    "marks=int(input(\"enter your marks:\"))\n",
    "if marks>=30:\n",
    "    print(\"pass\")\n",
    "else:\n",
    "    print(\"fail\")"
   ]
  },
  {
   "cell_type": "code",
   "execution_count": 84,
   "id": "b6815cef-d829-4b13-988b-72b2d553e4da",
   "metadata": {},
   "outputs": [
    {
     "name": "stdin",
     "output_type": "stream",
     "text": [
      "enter your marks: 29\n"
     ]
    },
    {
     "name": "stdout",
     "output_type": "stream",
     "text": [
      "fail\n"
     ]
    }
   ],
   "source": [
    "marks=int(input(\"enter your marks:\"))\n",
    "if marks>=30:\n",
    "    print(\"pass\")\n",
    "else:\n",
    "    print(\"fail\")"
   ]
  },
  {
   "cell_type": "code",
   "execution_count": 85,
   "id": "71f7bb31-ad8b-4dad-86ef-9f014452c5fc",
   "metadata": {},
   "outputs": [
    {
     "name": "stdin",
     "output_type": "stream",
     "text": [
      "enter a number: 56\n"
     ]
    },
    {
     "name": "stdout",
     "output_type": "stream",
     "text": [
      "even\n"
     ]
    }
   ],
   "source": [
    "num=int(input(\"enter a number:\"))\n",
    "if num%2==0:\n",
    "    print(\"even\")\n",
    "else:\n",
    "    print(\"odd\")"
   ]
  },
  {
   "cell_type": "code",
   "execution_count": 86,
   "id": "8afc79fb-9c2d-401f-b2e7-7b60333c42bb",
   "metadata": {},
   "outputs": [
    {
     "name": "stdin",
     "output_type": "stream",
     "text": [
      "enter a number: 789\n"
     ]
    },
    {
     "name": "stdout",
     "output_type": "stream",
     "text": [
      "odd\n"
     ]
    }
   ],
   "source": [
    "num=int(input(\"enter a number:\"))\n",
    "if num%2==0:\n",
    "    print(\"even\")\n",
    "else:\n",
    "    print(\"odd\")"
   ]
  },
  {
   "cell_type": "code",
   "execution_count": 91,
   "id": "d754736e-a487-4e7c-aefb-274a2347700b",
   "metadata": {},
   "outputs": [
    {
     "name": "stdin",
     "output_type": "stream",
     "text": [
      "enter a number: 190\n",
      "enter a number: 345\n",
      "enter a number: 678\n"
     ]
    },
    {
     "name": "stdout",
     "output_type": "stream",
     "text": [
      "greatest no is: 678\n"
     ]
    }
   ],
   "source": [
    "num1=int(input(\"enter a number:\"))\n",
    "num2=int(input(\"enter a number:\"))\n",
    "num3=int(input(\"enter a number:\"))\n",
    "if num1>=num2 and num1>=num3:\n",
    "    print(\"greatest no is:\",num1)\n",
    "elif num2>=num1 and num2>=num3:\n",
    "    print(\"greatest no is:\",num2)\n",
    "else:\n",
    "    print(\"greatest no is:\",num3)"
   ]
  },
  {
   "cell_type": "code",
   "execution_count": 94,
   "id": "d6034f57-03ad-48b4-8c91-1a6845c12fe1",
   "metadata": {},
   "outputs": [
    {
     "name": "stdin",
     "output_type": "stream",
     "text": [
      "enter a number: 100\n",
      "enter a number: 100\n",
      "enter a number: 200\n"
     ]
    },
    {
     "name": "stdout",
     "output_type": "stream",
     "text": [
      "smallest no is: 100\n"
     ]
    }
   ],
   "source": [
    "num1=int(input(\"enter a number:\"))\n",
    "num2=int(input(\"enter a number:\"))\n",
    "num3=int(input(\"enter a number:\"))\n",
    "if num1<=num2 and num1<=num3:\n",
    "    print(\"smallest no is:\",num1)\n",
    "elif num2<=num1 and num2<=num3:\n",
    "    print(\"smallest no is:\",num2)\n",
    "else:\n",
    "    print(\"smallest no is:\",num3)"
   ]
  },
  {
   "cell_type": "code",
   "execution_count": 101,
   "id": "2caa8493-6139-4a81-a917-b5e8c70dedb5",
   "metadata": {},
   "outputs": [
    {
     "name": "stdin",
     "output_type": "stream",
     "text": [
      "enter your marks: 34\n"
     ]
    },
    {
     "name": "stdout",
     "output_type": "stream",
     "text": [
      "C\n"
     ]
    }
   ],
   "source": [
    "marks=float(input(\"enter your marks:\"))\n",
    "if marks>=90:\n",
    "    print(\"A+\")\n",
    "elif marks>=80:\n",
    "    print(\"A\")\n",
    "elif marks>=70:\n",
    "    print(\"B+\")\n",
    "elif marks>=60:\n",
    "    print(\"B\")\n",
    "else:\n",
    "    print(\"C\")"
   ]
  },
  {
   "cell_type": "code",
   "execution_count": 106,
   "id": "45265041-a516-4bc4-8035-b42e17ab5072",
   "metadata": {},
   "outputs": [
    {
     "name": "stdin",
     "output_type": "stream",
     "text": [
      "enter your age: 14\n",
      "enter your citezenship: US\n"
     ]
    },
    {
     "name": "stdout",
     "output_type": "stream",
     "text": [
      "you're not eligible to vote\n"
     ]
    }
   ],
   "source": [
    "age=int(input(\"enter your age:\"))\n",
    "c=input(\"enter your citezenship:\")\n",
    "if age>=18:\n",
    "    if c==\"India\":\n",
    "        print(\"you're eligible to vote in India\")\n",
    "    else:\n",
    "        print(\"you're not eligible to vote in India\")\n",
    "else:\n",
    "    print(\"you're not eligible to vote\")"
   ]
  },
  {
   "cell_type": "code",
   "execution_count": 111,
   "id": "5ae16b0a-f056-461e-9f4d-5db626da3a2b",
   "metadata": {},
   "outputs": [
    {
     "name": "stdin",
     "output_type": "stream",
     "text": [
      "enter your age: 18\n",
      "enter your citezenship: India\n"
     ]
    },
    {
     "name": "stdout",
     "output_type": "stream",
     "text": [
      "you're eligible to vote in India\n"
     ]
    }
   ],
   "source": [
    "#another menthod for the above program without the use of nested if\n",
    "age=int(input(\"enter your age:\"))\n",
    "c=input(\"enter your citezenship:\")\n",
    "if age>=18 and c==\"India\":\n",
    "    print(\"you're eligible to vote in India\")\n",
    "elif age>=18 and c!=\"India\":\n",
    "    print(\"you're not eligible to vote in India\")\n",
    "else:\n",
    "    print(\"you're not eligible to vote\")"
   ]
  },
  {
   "cell_type": "code",
   "execution_count": 114,
   "id": "753cf4df-d291-47a8-9a72-51a628f34192",
   "metadata": {},
   "outputs": [
    {
     "name": "stdin",
     "output_type": "stream",
     "text": [
      "enter a number: -67\n"
     ]
    },
    {
     "name": "stdout",
     "output_type": "stream",
     "text": [
      "negative\n"
     ]
    }
   ],
   "source": [
    "#checks if a number is positive,negative or zero\n",
    "num=int(input(\"enter a number:\"))\n",
    "if num==0:\n",
    "    print(\"zero\")\n",
    "elif num>0:\n",
    "    print(\"positive\")\n",
    "else:\n",
    "    print(\"negative\")"
   ]
  },
  {
   "cell_type": "code",
   "execution_count": 129,
   "id": "c8e5a607-a94e-40b3-87e8-6d8a8d47f084",
   "metadata": {},
   "outputs": [
    {
     "name": "stdin",
     "output_type": "stream",
     "text": [
      "enter the year: 2024\n"
     ]
    },
    {
     "name": "stdout",
     "output_type": "stream",
     "text": [
      "leap\n"
     ]
    }
   ],
   "source": [
    "year=int(input(\"enter the year:\"))\n",
    "if (year%4==0 and year%100!=0) or year%400==0:\n",
    "    print(\"leap\")\n",
    "else:\n",
    "    print(\"not leap\")"
   ]
  },
  {
   "cell_type": "code",
   "execution_count": 155,
   "id": "fd4e0a89-2bb6-4ec7-a12c-b143878e85df",
   "metadata": {},
   "outputs": [
    {
     "name": "stdin",
     "output_type": "stream",
     "text": [
      "enter a number: 7\n",
      "enter a number: 0\n",
      "enter the operator: /\n"
     ]
    },
    {
     "name": "stdout",
     "output_type": "stream",
     "text": [
      "connot divide by zero\n"
     ]
    }
   ],
   "source": [
    "##### num1=int(input(\"enter a numver:\"))\n",
    "num1=int(input(\"enter a number:\"))\n",
    "num2=int(input(\"enter a number:\"))\n",
    "op=input(\"enter the operator:\")\n",
    "if op==\"+\":\n",
    "    print(num1+num2)\n",
    "elif op==\"-\":\n",
    "    print(num1-num2)\n",
    "elif op==\"*\":\n",
    "    print(num1*num2)\n",
    "elif op==\"/\" and num2!=0:\n",
    "    print(num1/num2)\n",
    "elif op==\"/\" and num2==0:\n",
    "    print(\"connot divide by zero\")"
   ]
  },
  {
   "cell_type": "code",
   "execution_count": 157,
   "id": "f9fe4c2a-5130-4d7c-8b68-94cd2971de8d",
   "metadata": {},
   "outputs": [
    {
     "name": "stdin",
     "output_type": "stream",
     "text": [
      "enter an alphabet: c\n"
     ]
    },
    {
     "name": "stdout",
     "output_type": "stream",
     "text": [
      "consonant\n"
     ]
    }
   ],
   "source": [
    "string=input(\"enter an alphabet:\")\n",
    "if string in \"AEIOUaeiou\":\n",
    "    print(\"vowel\")\n",
    "else:\n",
    "    print(\"consonant\")"
   ]
  },
  {
   "cell_type": "code",
   "execution_count": 161,
   "id": "22117a8c-e6e3-4876-934e-c2a937a3c418",
   "metadata": {},
   "outputs": [
    {
     "name": "stdin",
     "output_type": "stream",
     "text": [
      "enter a number: 45\n"
     ]
    },
    {
     "name": "stdout",
     "output_type": "stream",
     "text": [
      "divisible by both 5 and 3\n"
     ]
    }
   ],
   "source": [
    "num=int(input(\"enter a number:\"))\n",
    "if num%5==0 and num%3==0:\n",
    "    print(\"divisible by both 5 and 3\")\n",
    "else:\n",
    "    print(\"not divisible by both 5 and 3\")"
   ]
  }
 ],
 "metadata": {
  "kernelspec": {
   "display_name": "Python 3 (ipykernel)",
   "language": "python",
   "name": "python3"
  },
  "language_info": {
   "codemirror_mode": {
    "name": "ipython",
    "version": 3
   },
   "file_extension": ".py",
   "mimetype": "text/x-python",
   "name": "python",
   "nbconvert_exporter": "python",
   "pygments_lexer": "ipython3",
   "version": "3.13.1"
  }
 },
 "nbformat": 4,
 "nbformat_minor": 5
}
