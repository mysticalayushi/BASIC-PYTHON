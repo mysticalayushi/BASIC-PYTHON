{
 "cells": [
  {
   "cell_type": "code",
   "execution_count": 12,
   "id": "9e671cdc-a1a3-4728-b653-f0cbbb30b045",
   "metadata": {},
   "outputs": [
    {
     "name": "stdin",
     "output_type": "stream",
     "text": [
      "enter the x coordinate: 6\n",
      "enter the y coordinate: -5\n"
     ]
    },
    {
     "name": "stdout",
     "output_type": "stream",
     "text": [
      "second quadrant\n"
     ]
    }
   ],
   "source": [
    "#reads the coordinates and gives the quadrant\n",
    "x=int(input(\"enter the x coordinate:\"))\n",
    "y=int(input(\"enter the y coordinate:\"))\n",
    "if x>0 and y>0:\n",
    "    print(\"first quadrant\")\n",
    "elif x>0 and y<0:\n",
    "    print(\"second quadrant\")\n",
    "elif x<0 and y<0:\n",
    "    print(\"third quadrant\")\n",
    "else:\n",
    "    print(\"fourth quadrant\")"
   ]
  },
  {
   "cell_type": "code",
   "execution_count": 20,
   "id": "c86e966a-4da9-40c7-9747-2847921d18c8",
   "metadata": {},
   "outputs": [
    {
     "name": "stdin",
     "output_type": "stream",
     "text": [
      "enter the respective number for figure whose area is to be calculated: 1.circle 2.square 3.rectabgle 4.triangle 2\n",
      "enter the side of the square: 56\n"
     ]
    },
    {
     "name": "stdout",
     "output_type": "stream",
     "text": [
      "3136.0\n"
     ]
    }
   ],
   "source": [
    "#Menu driven program to calculate area of a figure of choice\n",
    "fig=int(input(\"enter the respective number for figure whose area is to be calculated: 1.circle 2.square 3.rectabgle 4.triangle\"))\n",
    "if fig==1:\n",
    "    r=float(input(\"enter the radius:\"))\n",
    "    print(3.14*r*r)\n",
    "elif fig==2:\n",
    "    s=float(input(\"enter the side of the square:\"))\n",
    "    print(s*s)\n",
    "elif fig==3:\n",
    "    l=float(input(\"enter the length of the rectangle:\"))\n",
    "    b=float(input(\"enter the breadth of the rectabgle:\"))\n",
    "    print(l*b)\n",
    "else:\n",
    "    base=float(input(\"enter the base of the traingle:\"))\n",
    "    height=float(input(\"enter the height of the traingle:\"))\n",
    "    print(0.5*base*height)\n",
    "\n"
   ]
  },
  {
   "cell_type": "code",
   "execution_count": 21,
   "id": "3cecb6a7-b3c5-4b9c-b7ae-4c9d6817ec54",
   "metadata": {},
   "outputs": [
    {
     "name": "stdout",
     "output_type": "stream",
     "text": [
      "1\n",
      "2\n",
      "3\n",
      "4\n",
      "5\n"
     ]
    }
   ],
   "source": [
    "#while loop\n",
    "count=1\n",
    "while count<=5:\n",
    "    print(count)\n",
    "    count+=1"
   ]
  },
  {
   "cell_type": "code",
   "execution_count": 1,
   "id": "29a3bcc1-236d-4c1f-837d-a1fb0ce13a89",
   "metadata": {},
   "outputs": [
    {
     "name": "stdout",
     "output_type": "stream",
     "text": [
      "1\n",
      "2\n",
      "3\n",
      "4\n",
      "5\n"
     ]
    }
   ],
   "source": [
    "#print 1-5 using for loop\n",
    "for i in range(1,6):\n",
    "    print(i)"
   ]
  },
  {
   "cell_type": "code",
   "execution_count": 2,
   "id": "130810d3-3264-4bf9-b283-8888177b1025",
   "metadata": {},
   "outputs": [
    {
     "name": "stdout",
     "output_type": "stream",
     "text": [
      "1\n",
      "2\n",
      "3\n",
      "4\n",
      "5\n",
      "6\n",
      "7\n",
      "8\n",
      "9\n"
     ]
    }
   ],
   "source": [
    "#for loop\n",
    "n=10\n",
    "for i in range(1,n):\n",
    "    print(i)"
   ]
  },
  {
   "cell_type": "code",
   "execution_count": 4,
   "id": "589ebd6a-00ab-40d3-b295-bec3baf8937a",
   "metadata": {},
   "outputs": [
    {
     "name": "stdout",
     "output_type": "stream",
     "text": [
      "1\n",
      "2\n",
      "3\n",
      "4\n",
      "5\n",
      "6\n",
      "7\n",
      "8\n",
      "9\n",
      "10\n"
     ]
    }
   ],
   "source": [
    "#print 1-10 using for loop\n",
    "n=10\n",
    "for i in range(1,n+1):\n",
    "    print(i)"
   ]
  },
  {
   "cell_type": "code",
   "execution_count": 14,
   "id": "b9b2ba1c-9578-4057-a03b-59cc483f5218",
   "metadata": {},
   "outputs": [
    {
     "name": "stdout",
     "output_type": "stream",
     "text": [
      "0\n",
      "1\n",
      "2\n",
      "3\n",
      "4\n",
      "Loop completed\n"
     ]
    }
   ],
   "source": [
    "#for loop\n",
    "for i in range(5):\n",
    "    print(i)\n",
    "else:\n",
    "    print(\"Loop completed\")"
   ]
  },
  {
   "cell_type": "code",
   "execution_count": 13,
   "id": "309cc068-ff2b-4609-ac94-1c76d19cd300",
   "metadata": {},
   "outputs": [
    {
     "name": "stdout",
     "output_type": "stream",
     "text": [
      "0\n",
      "1\n",
      "2\n",
      "3\n",
      "4\n",
      "Loop completed\n"
     ]
    }
   ],
   "source": [
    "#while loop\n",
    "count=0\n",
    "while count<=4:\n",
    "    print(count)\n",
    "    count+=1\n",
    "print(\"Loop completed\")"
   ]
  },
  {
   "cell_type": "code",
   "execution_count": 16,
   "id": "1c9f9567-6a1e-405f-838c-26c46e99ceed",
   "metadata": {},
   "outputs": [
    {
     "name": "stdout",
     "output_type": "stream",
     "text": [
      "1\n",
      "2\n",
      "3\n",
      "4\n",
      "5\n",
      "6\n",
      "7\n",
      "8\n",
      "9\n",
      "10\n"
     ]
    }
   ],
   "source": [
    "#print all numbers from 1-10 using while loop\n",
    "count=1\n",
    "while count<=10:\n",
    "    print(count)\n",
    "    count+=1\n"
   ]
  },
  {
   "cell_type": "code",
   "execution_count": 17,
   "id": "ae243bb5-7345-40bc-bfac-892dd6d7784b",
   "metadata": {},
   "outputs": [
    {
     "name": "stdout",
     "output_type": "stream",
     "text": [
      "10\n",
      "9\n",
      "8\n",
      "7\n",
      "6\n",
      "5\n",
      "4\n",
      "3\n",
      "2\n",
      "1\n"
     ]
    }
   ],
   "source": [
    "#print 10-1 using while loop\n",
    "count=10\n",
    "while count>=1:\n",
    "    print(count)\n",
    "    count-=1"
   ]
  },
  {
   "cell_type": "code",
   "execution_count": 19,
   "id": "95853380-ca26-4cc7-8638-57436a8a4476",
   "metadata": {},
   "outputs": [
    {
     "name": "stdout",
     "output_type": "stream",
     "text": [
      "1\n",
      "2\n",
      "3\n",
      "4\n",
      "5\n",
      "6\n",
      "7\n",
      "8\n",
      "9\n",
      "10\n"
     ]
    }
   ],
   "source": [
    "#1-10 using for loop\n",
    "for i in range(1,11):\n",
    "    print(i)\n"
   ]
  },
  {
   "cell_type": "code",
   "execution_count": 25,
   "id": "2d5bbb94-fb55-41c5-8f56-bfdd178085e2",
   "metadata": {},
   "outputs": [
    {
     "name": "stdin",
     "output_type": "stream",
     "text": [
      "enter the no. of fruits you want to enter: 2\n",
      "enter the fruit: banana\n",
      "enter the fruit: mango\n"
     ]
    },
    {
     "name": "stdout",
     "output_type": "stream",
     "text": [
      "['banana', 'mango']\n"
     ]
    }
   ],
   "source": [
    "#iterate a list of fruits using for loop\n",
    "mylist=[]\n",
    "n=int(input(\"enter the no. of fruits you want to enter:\"))\n",
    "for i in range(1,n+1):\n",
    "    fruit=input(\"enter the fruit:\")\n",
    "    mylist.append(fruit)\n",
    "print(mylist)"
   ]
  },
  {
   "cell_type": "code",
   "execution_count": 27,
   "id": "f2be336a-4811-4a40-bd56-0829911c2447",
   "metadata": {},
   "outputs": [
    {
     "name": "stdin",
     "output_type": "stream",
     "text": [
      "enter the no. of integers you want to enter: 3\n",
      "enter the number: 12\n",
      "enter the number: 13\n",
      "enter the number: 14\n"
     ]
    },
    {
     "name": "stdout",
     "output_type": "stream",
     "text": [
      "[12, 13, 14]\n"
     ]
    }
   ],
   "source": [
    "mylist=[]\n",
    "n=int(input(\"enter the no. of integers you want to enter:\"))\n",
    "for i in range(1,n+1):\n",
    "    num=int(input(\"enter the number:\"))\n",
    "    mylist.append(num)\n",
    "print(mylist)"
   ]
  },
  {
   "cell_type": "code",
   "execution_count": 32,
   "id": "0323020e-8dfa-4a90-802e-6ad9a0c94482",
   "metadata": {},
   "outputs": [
    {
     "name": "stdin",
     "output_type": "stream",
     "text": [
      "enter the no of integers you want the sum of: 3\n",
      "enter the number: -22\n",
      "enter the number: -10\n",
      "enter the number: 56\n"
     ]
    },
    {
     "name": "stdout",
     "output_type": "stream",
     "text": [
      "24\n"
     ]
    }
   ],
   "source": [
    "#sum of n numbers\n",
    "sum=0\n",
    "n=int(input(\"enter the no of integers you want the sum of:\"))\n",
    "for i in range(1,n+1):\n",
    "    num=int(input(\"enter the number:\"))\n",
    "    sum=sum+num\n",
    "print(sum)"
   ]
  },
  {
   "cell_type": "code",
   "execution_count": 35,
   "id": "ea060fb7-573a-47bc-8fa5-e811902818c1",
   "metadata": {},
   "outputs": [
    {
     "name": "stdin",
     "output_type": "stream",
     "text": [
      "enter the number of integers you want to enter: 3\n",
      "enter the number: -10\n",
      "enter the number: 9\n",
      "enter the number: 3\n"
     ]
    },
    {
     "name": "stdout",
     "output_type": "stream",
     "text": [
      "[-10, 9, 3]\n",
      "2\n"
     ]
    }
   ],
   "source": [
    "#print sum of elements of a list\n",
    "mylist=[]\n",
    "sum=0\n",
    "n=int(input(\"enter the number of integers you want to enter:\"))\n",
    "for i in range(1,n+1):\n",
    "    num=int(input(\"enter the number:\"))\n",
    "    mylist.append(num)\n",
    "    sum=sum+num\n",
    "print(mylist)    \n",
    "print(sum)\n"
   ]
  },
  {
   "cell_type": "code",
   "execution_count": 36,
   "id": "3c892655-3734-4d69-8049-2662e7f3f5d1",
   "metadata": {},
   "outputs": [
    {
     "name": "stdout",
     "output_type": "stream",
     "text": [
      "[1, 2, 3]\n",
      "6\n"
     ]
    }
   ],
   "source": [
    "#sum of elements of a list\n",
    "mylist=[1,2,3]\n",
    "sum=0\n",
    "for i in mylist:\n",
    "    sum=sum+i\n",
    "print(mylist)\n",
    "print(sum)"
   ]
  },
  {
   "cell_type": "code",
   "execution_count": 37,
   "id": "9e593e5a-49c0-4b92-8916-0c26cd9edbd9",
   "metadata": {},
   "outputs": [
    {
     "name": "stdout",
     "output_type": "stream",
     "text": [
      "0\n",
      "25\n",
      "50\n",
      "75\n"
     ]
    }
   ],
   "source": [
    "#for loop\n",
    "for i in range(0,100,25):\n",
    "    print(i)"
   ]
  },
  {
   "cell_type": "code",
   "execution_count": 38,
   "id": "88a13851-a4be-4b97-82e4-88b7083b9e8e",
   "metadata": {},
   "outputs": [
    {
     "name": "stdout",
     "output_type": "stream",
     "text": [
      "0\n",
      "2\n",
      "4\n",
      "6\n",
      "8\n",
      "10\n"
     ]
    }
   ],
   "source": [
    "#for loop\n",
    "for i in range(0,11,2):\n",
    "    print(i)"
   ]
  },
  {
   "cell_type": "code",
   "execution_count": 39,
   "id": "a311fa17-7b0d-4c39-bdec-f08024967dd3",
   "metadata": {},
   "outputs": [
    {
     "name": "stdout",
     "output_type": "stream",
     "text": [
      "i=0,j=0\n",
      "i=0,j=1\n",
      "i=1,j=0\n",
      "i=1,j=1\n",
      "i=2,j=0\n",
      "i=2,j=1\n"
     ]
    }
   ],
   "source": [
    "#nested for\n",
    "for i in range(3):\n",
    "    for j in range(2):\n",
    "        print(f\"i={i},j={j}\")"
   ]
  },
  {
   "cell_type": "code",
   "execution_count": 40,
   "id": "396814bd-a098-4611-8562-4864b9775472",
   "metadata": {},
   "outputs": [
    {
     "name": "stdout",
     "output_type": "stream",
     "text": [
      "5\n",
      "10\n",
      "15\n",
      "20\n",
      "25\n",
      "30\n",
      "35\n",
      "40\n",
      "45\n",
      "50\n"
     ]
    }
   ],
   "source": [
    "#Table of 5 using for loop\n",
    "for i in range(1,11):\n",
    "    print(5*i)"
   ]
  },
  {
   "cell_type": "code",
   "execution_count": 41,
   "id": "6aa7a179-43ae-4326-a094-ea85757ab60b",
   "metadata": {},
   "outputs": [
    {
     "name": "stdout",
     "output_type": "stream",
     "text": [
      "0\n",
      "1\n",
      "2\n"
     ]
    }
   ],
   "source": [
    "#break statement\n",
    "for i in range(5):\n",
    "    if i==3:\n",
    "        break\n",
    "    print(i)"
   ]
  },
  {
   "cell_type": "code",
   "execution_count": 43,
   "id": "b6343c67-cf86-4829-9158-136536d3f77d",
   "metadata": {},
   "outputs": [
    {
     "name": "stdout",
     "output_type": "stream",
     "text": [
      "0\n",
      "1\n",
      "2\n",
      "4\n"
     ]
    }
   ],
   "source": [
    "#continue statement\n",
    "for i in range(5):\n",
    "    if i==3:\n",
    "        continue\n",
    "    print(i)"
   ]
  },
  {
   "cell_type": "code",
   "execution_count": 44,
   "id": "98c421fb-51ee-4fb5-ac98-6bacfe6828ff",
   "metadata": {},
   "outputs": [
    {
     "name": "stdout",
     "output_type": "stream",
     "text": [
      "3\n"
     ]
    }
   ],
   "source": [
    "for i in range(5):\n",
    "    if i==3:\n",
    "        break\n",
    "print(i)#Indentation of print alters the output "
   ]
  },
  {
   "cell_type": "code",
   "execution_count": 45,
   "id": "bd1c4306-528b-42ad-a72e-a94609ab1c9d",
   "metadata": {},
   "outputs": [
    {
     "name": "stdout",
     "output_type": "stream",
     "text": [
      "4\n"
     ]
    }
   ],
   "source": [
    "for i in range(5):\n",
    "    if i==3:\n",
    "        continue\n",
    "print(i)#Indentation of print alters the output "
   ]
  },
  {
   "cell_type": "code",
   "execution_count": 46,
   "id": "4751dfca-dad9-4c20-9fe6-d9e53ee14a35",
   "metadata": {},
   "outputs": [
    {
     "name": "stdout",
     "output_type": "stream",
     "text": [
      "0\n",
      "1\n",
      "2\n",
      "3\n",
      "4\n"
     ]
    }
   ],
   "source": [
    "#pass statement\n",
    "for i in range(5):\n",
    "    if i==3:\n",
    "        pass\n",
    "    print(i)"
   ]
  },
  {
   "cell_type": "code",
   "execution_count": null,
   "id": "05392a2a-3c14-4d16-8745-07895a432e26",
   "metadata": {},
   "outputs": [],
   "source": []
  }
 ],
 "metadata": {
  "kernelspec": {
   "display_name": "Python 3 (ipykernel)",
   "language": "python",
   "name": "python3"
  },
  "language_info": {
   "codemirror_mode": {
    "name": "ipython",
    "version": 3
   },
   "file_extension": ".py",
   "mimetype": "text/x-python",
   "name": "python",
   "nbconvert_exporter": "python",
   "pygments_lexer": "ipython3",
   "version": "3.13.1"
  }
 },
 "nbformat": 4,
 "nbformat_minor": 5
}
