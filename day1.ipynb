{
 "cells": [
  {
   "cell_type": "code",
   "execution_count": 1,
   "id": "418ef3cf-d1ff-4544-ad09-9b73a86303b0",
   "metadata": {},
   "outputs": [
    {
     "name": "stdin",
     "output_type": "stream",
     "text": [
      "enter a number: 13\n",
      "enter another number: 14\n",
      "enter yet another number: 15\n"
     ]
    },
    {
     "name": "stdout",
     "output_type": "stream",
     "text": [
      "14.0\n"
     ]
    }
   ],
   "source": [
    "a=int(input(\"enter a number:\"))\n",
    "b=int(input(\"enter another number:\"))\n",
    "c=int(input(\"enter yet another number:\"))\n",
    "avg=(a+b+c)/3\n",
    "print(avg)\n"
   ]
  },
  {
   "cell_type": "code",
   "execution_count": 2,
   "id": "6bab36e4-9804-4028-b1bf-962110c4b52c",
   "metadata": {},
   "outputs": [
    {
     "name": "stdin",
     "output_type": "stream",
     "text": [
      "enter a number: 2\n",
      "enter a number: 3\n"
     ]
    },
    {
     "name": "stdout",
     "output_type": "stream",
     "text": [
      "original numbers: 2 3\n",
      "swapped numbers: 3 2\n"
     ]
    }
   ],
   "source": [
    "d=int(input(\"enter a number:\"))\n",
    "e=int(input(\"enter a number:\"))\n",
    "print(\"original numbers:\",d,e)\n",
    "x=d\n",
    "d=e\n",
    "e=x\n",
    "print(\"swapped numbers:\",d,e)\n"
   ]
  },
  {
   "cell_type": "code",
   "execution_count": 3,
   "id": "3b1a06f7-ac37-4d10-bb44-aeadba579724",
   "metadata": {},
   "outputs": [
    {
     "name": "stdin",
     "output_type": "stream",
     "text": [
      "enter a number: 3\n",
      "enter a number: 4\n"
     ]
    },
    {
     "name": "stdout",
     "output_type": "stream",
     "text": [
      "original numbers 3 4\n",
      "swapped numbers: 4 3\n"
     ]
    }
   ],
   "source": [
    "\n",
    "f=int(input(\"enter a number:\"))\n",
    "g=int(input(\"enter a number:\"))\n",
    "print(\"original numbers\",f,g)\n",
    "f,g=g,f\n",
    "print(\"swapped numbers:\",f,g)"
   ]
  },
  {
   "cell_type": "code",
   "execution_count": 4,
   "id": "360a7dfb-b3a2-4c4b-853a-98ce17f7b1ea",
   "metadata": {},
   "outputs": [
    {
     "name": "stdin",
     "output_type": "stream",
     "text": [
      "enter the radius of a number: 7\n"
     ]
    },
    {
     "name": "stdout",
     "output_type": "stream",
     "text": [
      "153.86\n",
      "43.96\n"
     ]
    }
   ],
   "source": [
    "r=int(input(\"enter the radius of a circle:\"))\n",
    "area=3.14*r*r\n",
    "peri=2*3.14*r\n",
    "print(area)\n",
    "print(peri)\n",
    "\n"
   ]
  },
  {
   "cell_type": "code",
   "execution_count": 5,
   "id": "3a8efa23-d916-4166-b085-9841f3b7daf9",
   "metadata": {},
   "outputs": [
    {
     "name": "stdin",
     "output_type": "stream",
     "text": [
      "enter a number: 5\n",
      "enter a number: 6\n"
     ]
    },
    {
     "name": "stdout",
     "output_type": "stream",
     "text": [
      "original numbers: 5 6\n",
      "swapped numbers: 6 5\n"
     ]
    }
   ],
   "source": [
    "#swapping two numbers method 3\n",
    "a=int(input(\"enter a number:\"))\n",
    "b=int(input(\"enter a number:\"))\n",
    "print(\"original numbers:\",a,b)\n",
    "a=a+b\n",
    "b=a-b\n",
    "a=a-b\n",
    "print(\"swapped numbers:\",a,b)"
   ]
  },
  {
   "cell_type": "code",
   "execution_count": 6,
   "id": "951ab3a2-940a-45ed-a936-f35fb2199c4f",
   "metadata": {},
   "outputs": [
    {
     "name": "stdin",
     "output_type": "stream",
     "text": [
      "enter a number: 49\n"
     ]
    },
    {
     "name": "stdout",
     "output_type": "stream",
     "text": [
      "the number is divisible by 7\n"
     ]
    }
   ],
   "source": [
    "#checking if a number is divisible by 7 or not\n",
    "c=float(input(\"enter a number:\"))\n",
    "if c%7==0:\n",
    "    print(\"the number is divisible by 7\")\n",
    "else:\n",
    "    print(\"the number is not divisible by 7\")\n"
   ]
  },
  {
   "cell_type": "code",
   "execution_count": 8,
   "id": "b9aacfbd-2c4d-4b4a-bb46-7dc3c66f45d0",
   "metadata": {},
   "outputs": [
    {
     "name": "stdin",
     "output_type": "stream",
     "text": [
      "enter a number 45\n",
      "enter a number: 56\n",
      "enter a number: 100\n"
     ]
    },
    {
     "name": "stdout",
     "output_type": "stream",
     "text": [
      "the greatest number is: 100.0\n"
     ]
    }
   ],
   "source": [
    "a=float(input(\"enter a number\"))\n",
    "b=float(input(\"enter a number:\"))\n",
    "c=float(input(\"enter a number:\"))\n",
    "if a>b and a>c:\n",
    "    print(\"the greatest no is:\",a)\n",
    "elif b>a and b>c:\n",
    "    print(\"the greatest number is:\",b)\n",
    "else:\n",
    "    print(\"the greatest number is:\",c)\n",
    "    \n"
   ]
  },
  {
   "cell_type": "code",
   "execution_count": 9,
   "id": "06b6cfdc-03cf-4869-8170-cb9d30d7c215",
   "metadata": {},
   "outputs": [
    {
     "name": "stdin",
     "output_type": "stream",
     "text": [
      "enter temperature in celsius: 37\n"
     ]
    },
    {
     "name": "stdout",
     "output_type": "stream",
     "text": [
      "temperature in fahrenheit 98.6\n"
     ]
    }
   ],
   "source": [
    "c=int(input(\"enter temperature in celsius:\"))\n",
    "f=(c*9/5)+32\n",
    "print(\"temperature in fahrenheit\",f)\n",
    "\n",
    "#"
   ]
  },
  {
   "cell_type": "code",
   "execution_count": 10,
   "id": "f2c3bb4a-09e1-4709-a819-51b9890c2897",
   "metadata": {},
   "outputs": [
    {
     "name": "stdin",
     "output_type": "stream",
     "text": [
      "enter the principal amount 100000\n",
      "enter the rate of interest 10\n",
      "enter the time of interest in years 5\n"
     ]
    },
    {
     "name": "stdout",
     "output_type": "stream",
     "text": [
      "the simple interest is: 50000.0\n",
      "the compound interest is: 61051.00000000006\n"
     ]
    }
   ],
   "source": [
    "#compund interest and simple interest\n",
    "p=int(input(\"enter the principal amount\"))\n",
    "r=int(input(\"enter the rate of interest\"))\n",
    "t=int(input(\"enter the time of interest in years\"))\n",
    "SI=(p*r*t)/100\n",
    "print(\"the simple interest is:\",SI)\n",
    "CI=p*(1+r/100)**t-p\n",
    "print(\"the compound interest is:\",CI)\n",
    "\n"
   ]
  },
  {
   "cell_type": "code",
   "execution_count": null,
   "id": "36d7b108-8a78-4d6a-9cae-04595061ea19",
   "metadata": {},
   "outputs": [],
   "source": []
  }
 ],
 "metadata": {
  "kernelspec": {
   "display_name": "Python 3 (ipykernel)",
   "language": "python",
   "name": "python3"
  },
  "language_info": {
   "codemirror_mode": {
    "name": "ipython",
    "version": 3
   },
   "file_extension": ".py",
   "mimetype": "text/x-python",
   "name": "python",
   "nbconvert_exporter": "python",
   "pygments_lexer": "ipython3",
   "version": "3.13.1"
  }
 },
 "nbformat": 4,
 "nbformat_minor": 5
}
