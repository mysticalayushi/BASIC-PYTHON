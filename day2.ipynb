{
 "cells": [
  {
   "cell_type": "code",
   "execution_count": 1,
   "id": "a7d39b0d-3b40-4bee-8af9-c24f0496c6c6",
   "metadata": {},
   "outputs": [
    {
     "name": "stdout",
     "output_type": "stream",
     "text": [
      "<class 'str'>\n",
      "<class 'int'>\n",
      "<class 'bool'>\n",
      "<class 'float'>\n",
      "<class 'list'>\n",
      "<class 'tuple'>\n",
      "<class 'dict'>\n"
     ]
    }
   ],
   "source": [
    "string=\"abc\"\n",
    "num=123\n",
    "boolean=True\n",
    "floatt=10.50\n",
    "listt=[1,2,3]\n",
    "tup=(1,2,3)\n",
    "dictt={\"name\":\"xyz\",\"age\":23}\n",
    "print(type(string))\n",
    "print(type(num))\n",
    "print(type(boolean))\n",
    "print(type(floatt))\n",
    "print(type(listt))\n",
    "print(type(tup))\n",
    "print(type(dictt))"
   ]
  },
  {
   "cell_type": "code",
   "execution_count": 2,
   "id": "34af056c-c1a3-471c-8cd0-3a997aa447e0",
   "metadata": {},
   "outputs": [
    {
     "name": "stdout",
     "output_type": "stream",
     "text": [
      "Name:ayushi,Age:18\n",
      "Name:ayushi,Age:18\n",
      "apple-banana-guava-kiwi-avocado\n",
      "abcxyz\n",
      "I hate coming to college\n",
      "It sucks\n",
      "file:///C:/Users/Ayushi%20Rai/AppData/Local/Microsoft/Windows/INetCache/IE/XMHSR2Q8/Python_Day-1[1].pdf\n"
     ]
    }
   ],
   "source": [
    "name=\"ayushi\"\n",
    "age=18\n",
    "print(f\"Name:{name},Age:{age}\")\n",
    "print(\"Name:{},Age:{}\".format(name,age))\n",
    "print(\"apple\",\"banana\",\"guava\",\"kiwi\",\"avocado\",sep=\"-\")\n",
    "\n",
    "print(\"abc\",end=\"\")\n",
    "print(\"xyz\")\n",
    "print(\"I hate coming to college\\nIt sucks\")\n",
    "print(r\"file:///C:/Users/Ayushi%20Rai/AppData/Local/Microsoft/Windows/INetCache/IE/XMHSR2Q8/Python_Day-1[1].pdf\")"
   ]
  },
  {
   "cell_type": "code",
   "execution_count": 3,
   "id": "1e16b9e8-02c7-4320-a992-05a2dd6c0bbc",
   "metadata": {},
   "outputs": [
    {
     "name": "stdout",
     "output_type": "stream",
     "text": [
      "39.585350825778974\n"
     ]
    }
   ],
   "source": [
    "import math\n",
    "print(math.sqrt(1567))\n"
   ]
  },
  {
   "cell_type": "code",
   "execution_count": 4,
   "id": "ef79a099-f9b0-47ce-925a-73f10712fb9d",
   "metadata": {},
   "outputs": [
    {
     "name": "stdout",
     "output_type": "stream",
     "text": [
      "range(0, 5)\n"
     ]
    }
   ],
   "source": [
    "my_range=range(5)\n",
    "print(my_range)\n"
   ]
  },
  {
   "cell_type": "code",
   "execution_count": 5,
   "id": "5f0cef79-6cbc-4703-a5e7-70cb9188c342",
   "metadata": {},
   "outputs": [
    {
     "name": "stdout",
     "output_type": "stream",
     "text": [
      "12.0\n"
     ]
    }
   ],
   "source": [
    "num=12\n",
    "num=float(num)\n",
    "print(num)"
   ]
  },
  {
   "cell_type": "code",
   "execution_count": 1,
   "id": "7414828f-c986-4533-ad6a-e9ced3ef935e",
   "metadata": {},
   "outputs": [
    {
     "name": "stdout",
     "output_type": "stream",
     "text": [
      "False\n",
      "True\n",
      "False\n"
     ]
    }
   ],
   "source": [
    "a=True\n",
    "b=False\n",
    "print(a and b)\n",
    "print(a or b)\n",
    "print(not a)"
   ]
  },
  {
   "cell_type": "code",
   "execution_count": 2,
   "id": "fef56a44-03cb-4c5c-8b7f-fe402e29c7db",
   "metadata": {},
   "outputs": [
    {
     "name": "stdout",
     "output_type": "stream",
     "text": [
      "1\n",
      "7\n",
      "0\n",
      "40\n"
     ]
    }
   ],
   "source": [
    "p=5\n",
    "q=3\n",
    "print(p&q)\n",
    "print(p|q)\n",
    "print(p>>q)\n",
    "print(p<<q)\n"
   ]
  },
  {
   "cell_type": "code",
   "execution_count": 3,
   "id": "5f3659c9-2513-4a14-8720-9c8a55b16b3a",
   "metadata": {},
   "outputs": [
    {
     "name": "stdout",
     "output_type": "stream",
     "text": [
      "8\n",
      "5\n",
      "15\n",
      "5.0\n",
      "125.0\n",
      "2.0\n",
      "0.0\n",
      "False\n",
      "True\n",
      "False\n",
      "True\n"
     ]
    }
   ],
   "source": [
    "x=5\n",
    "y=10\n",
    "x+=3\n",
    "print(x)\n",
    "x-=3\n",
    "print(x)\n",
    "x*=3\n",
    "print(x)\n",
    "x/=3\n",
    "print(x)\n",
    "x**=3\n",
    "print(x)\n",
    "x%=3\n",
    "print(x)\n",
    "x//=3\n",
    "print(x)\n",
    "print(x is y)\n",
    "print(x is not y)\n",
    "print(y is x)\n",
    "print(y is not x)"
   ]
  },
  {
   "cell_type": "code",
   "execution_count": 4,
   "id": "b64650d9-e54e-429e-8eb8-cc9d7817dcbf",
   "metadata": {},
   "outputs": [
    {
     "name": "stdout",
     "output_type": "stream",
     "text": [
      "False\n",
      "True\n"
     ]
    }
   ],
   "source": [
    "l1={\"name\":\"sheena\",\"age\":18}\n",
    "l2={\"name\":\"sheena\",\"age\":18}\n",
    "print(l1 is l2)\n",
    "print(l1 is not l2)\n"
   ]
  },
  {
   "cell_type": "code",
   "execution_count": 5,
   "id": "6eddffc1-f67f-4f52-a32a-c7f1b33ce9d6",
   "metadata": {},
   "outputs": [
    {
     "name": "stdout",
     "output_type": "stream",
     "text": [
      "True\n",
      "False\n"
     ]
    }
   ],
   "source": [
    "text=\"hello world\"\n",
    "print(\"hello\" in text)\n",
    "print(\"hello\" not in text)\n"
   ]
  },
  {
   "cell_type": "code",
   "execution_count": 6,
   "id": "979a68b7-b3ff-4cbe-bc8e-b3bc4ba81291",
   "metadata": {},
   "outputs": [
    {
     "name": "stdout",
     "output_type": "stream",
     "text": [
      "True\n",
      "False\n"
     ]
    }
   ],
   "source": [
    "l3=[1,2,3]\n",
    "print(1 in l3)\n",
    "print(4 in l3)\n"
   ]
  },
  {
   "cell_type": "code",
   "execution_count": 7,
   "id": "7d0c5eb6-594b-4a0d-b7e5-40bce57e18b6",
   "metadata": {},
   "outputs": [
    {
     "name": "stdout",
     "output_type": "stream",
     "text": [
      "True\n",
      "False\n"
     ]
    }
   ],
   "source": [
    "l4=[\"apple\",\"kiwi\",\"avocado\"]\n",
    "print(\"kiwi\" in l4)\n",
    "print(\"avocado\" not in l4)"
   ]
  },
  {
   "cell_type": "code",
   "execution_count": 8,
   "id": "2b417b0d-bdfb-4703-8e74-1f1d4fbda0da",
   "metadata": {},
   "outputs": [
    {
     "name": "stdout",
     "output_type": "stream",
     "text": [
      "True\n",
      "False\n"
     ]
    }
   ],
   "source": [
    "l5={\"name\":\"ayushi\",\"age\":18}\n",
    "print(\"name\" in l5)\n",
    "print(\"ayushi\" in l5)"
   ]
  },
  {
   "cell_type": "code",
   "execution_count": 9,
   "id": "be2a7539-ca84-4646-bca9-ff42d2744c06",
   "metadata": {},
   "outputs": [
    {
     "name": "stdout",
     "output_type": "stream",
     "text": [
      "True\n"
     ]
    }
   ],
   "source": [
    "a=\"apple\"\n",
    "print(\"a\" in \"apple\")"
   ]
  },
  {
   "cell_type": "code",
   "execution_count": 10,
   "id": "7328ce40-6bc8-4a47-a7cc-401086554244",
   "metadata": {},
   "outputs": [
    {
     "name": "stdout",
     "output_type": "stream",
     "text": [
      "11\n",
      "28\n"
     ]
    }
   ],
   "source": [
    "#order of precedence\n",
    "print(3+2*2**2)\n",
    "print(10+2*3**2)"
   ]
  },
  {
   "cell_type": "code",
   "execution_count": 11,
   "id": "9cd48886-d0bc-48da-b5ee-2fff7e006149",
   "metadata": {},
   "outputs": [
    {
     "name": "stdout",
     "output_type": "stream",
     "text": [
      "before swapping: 2 3\n",
      "after swapping: 3 2\n"
     ]
    }
   ],
   "source": [
    "#swapping two numbers using bitwise XOR operator\n",
    "x=2\n",
    "y=3\n",
    "print(\"before swapping:\",x,y)\n",
    "x=x^y\n",
    "y=x^y\n",
    "x=x^y\n",
    "print(\"after swapping:\",x,y)"
   ]
  },
  {
   "cell_type": "code",
   "execution_count": 12,
   "id": "688a68d5-6446-49ca-a730-d65bf8d51d7c",
   "metadata": {},
   "outputs": [
    {
     "name": "stdout",
     "output_type": "stream",
     "text": [
      "(4+8j)\n",
      "1j\n",
      "(-12+0j)\n",
      "(1.3333333333333333+0j)\n",
      "(-0.004374812582252155+0.007846052028917017j)\n"
     ]
    }
   ],
   "source": [
    "#operations on complex numbers\n",
    "sum=(4j)+(4+4j)\n",
    "sub=(4j)-(3j)\n",
    "mul=(4j)*(3j)\n",
    "div=(4j)/(3j)\n",
    "exp=(2j)**(3j)\n",
    "print(sum)\n",
    "print(sub)\n",
    "print(mul)\n",
    "print(div)\n",
    "print(exp)"
   ]
  },
  {
   "cell_type": "code",
   "execution_count": 13,
   "id": "dd728248-9162-4349-96a7-03df598cb467",
   "metadata": {},
   "outputs": [
    {
     "name": "stdout",
     "output_type": "stream",
     "text": [
      "[1, 3, 'xyz', 4, 6]\n"
     ]
    }
   ],
   "source": [
    "l=[1,2,3,\"abc\",\"xyz\",\"pqr\",4,5,6,True]\n",
    "print(l[0:9:2])"
   ]
  },
  {
   "cell_type": "code",
   "execution_count": null,
   "id": "54e3bf3d-c531-4fd9-b23f-d85eae49c8fc",
   "metadata": {},
   "outputs": [],
   "source": []
  }
 ],
 "metadata": {
  "kernelspec": {
   "display_name": "Python 3 (ipykernel)",
   "language": "python",
   "name": "python3"
  },
  "language_info": {
   "codemirror_mode": {
    "name": "ipython",
    "version": 3
   },
   "file_extension": ".py",
   "mimetype": "text/x-python",
   "name": "python",
   "nbconvert_exporter": "python",
   "pygments_lexer": "ipython3",
   "version": "3.13.1"
  }
 },
 "nbformat": 4,
 "nbformat_minor": 5
}
